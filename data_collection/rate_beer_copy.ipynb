{
 "cells": [
  {
   "cell_type": "code",
   "execution_count": 2,
   "metadata": {},
   "outputs": [],
   "source": [
    "from selenium import webdriver\n",
    "from time import sleep\n",
    "from bs4 import BeautifulSoup\n",
    "import pandas as pd\n",
    "\n",
    "driver = webdriver.Chrome(executable_path='chromedriver.exe')\n",
    "\n",
    "# regionalurl = input(\"Please enter the full url for your region: \")\n",
    "# region_name = input(\"Please enter the region name: \")\n",
    "\n",
    "arealist =[\n",
    "    {\n",
    "    'url':'https://www.ratebeer.com/breweries/washington-dc/48/213/',\n",
    "    'name': 'DC'\n",
    "    }\n",
    "    # # {\n",
    "    # # 'url':'https://www.ratebeer.com/breweries/delaware/8/213/',\n",
    "    # # 'name': 'DE'\n",
    "    # # },\n",
    "#     {\n",
    "#     'url':'https://www.ratebeer.com/breweries/maryland/20/213/',\n",
    "#     'name': 'MD'\n",
    "#     },\n",
    "    # {\n",
    "    # 'url':'https://www.ratebeer.com/breweries/pennsylvania/38/213/',\n",
    "    # 'name': 'PA'\n",
    "    # },\n",
    "#     {\n",
    "#     'url':'https://www.ratebeer.com/breweries/virginia/46/213/',\n",
    "#     'name': 'VA'\n",
    "#     }\n",
    "    # {\n",
    "    # 'url':'https://www.ratebeer.com/breweries/west%20virginia/49/213/',\n",
    "    # 'name': 'WV'\n",
    "    ]\n",
    "\n",
    "for state in arealist:\n",
    "    driver.get(state['url'])\n",
    "\n",
    "    sleep(5)\n",
    "    html = driver.page_source\n",
    "    soup = BeautifulSoup(html, 'lxml')\n",
    "\n",
    "    table = soup.find('table',{'id':'brewerTable'})\n",
    "\n",
    "    region_brews = []\n",
    "    \n",
    "\n",
    "    for i in range(len(table.find_all('a'))):\n",
    "        brewery = {}\n",
    "        if i % 2 == 0:\n",
    "            brewery['name'] = table.find_all('a')[i].text\n",
    "            brewery['link'] = f\"http://www.ratebeer.com{table.find_all('a')[i]['href']}\"\n",
    "        else:\n",
    "            continue\n",
    "        region_brews.append(brewery)\n",
    "\n",
    "    allbrews = []\n",
    "\n",
    "    for brewery in region_brews:\n",
    "        \n",
    "        driver.get(brewery['link'])\n",
    "        sleep(10)\n",
    "        html = driver.page_source\n",
    "        soup = BeautifulSoup(html, 'lxml')\n",
    "        \n",
    "        try:\n",
    "            brewery['google_map_link'] = soup.find('a',{'title':'View beermap'})['href'][2:]\n",
    "        except:\n",
    "            brewery['google_map_link'] = None\n",
    "        try:\n",
    "            brewery['address'] = soup.find('a',{'title':'View beermap'}).find('span',{'itemprop':'streetAddress'}).text\n",
    "        except:\n",
    "            brewery['address'] = None\n",
    "        try:\n",
    "            brewery['town'] = soup.find('a',{'title':'View beermap'}).find('span',{'itemprop':'addressLocality'}).text\n",
    "        except:\n",
    "            brewery['town'] = None\n",
    "        try:\n",
    "            brewery['state'] = soup.find('a',{'title':'View beermap'}).find('span',{'itemprop':'addressRegion'}).text\n",
    "        except:\n",
    "            brewery['state'] = None\n",
    "        try:\n",
    "            brewery['country'] = soup.find('a',{'title':'View beermap'}).find('span',{'itemprop':'addressCountry'}).text\n",
    "        except:\n",
    "            brewery['country'] = None\n",
    "        try:\n",
    "            brewery['postal_code'] = soup.find('a',{'title':'View beermap'}).find('span',{'itemprop':'postalCode'}).text\n",
    "        except:\n",
    "            brewery['postal_code'] = None\n",
    "\n",
    "        table = soup.find('table',{'id':'brewer-beer-table'})\n",
    "\n",
    "        beermenu = []\n",
    "        try:\n",
    "            table.find('tbody').find_all('tr')\n",
    "        except:\n",
    "            try:\n",
    "                newlink = f\"http://www.ratebeer.com{soup.find_all('em')[-1].find('a')['href']}\"\n",
    "                driver.get(newlink)\n",
    "                sleep(10)\n",
    "                html = driver.page_source\n",
    "                soup = BeautifulSoup(html, 'lxml')\n",
    "\n",
    "                table = soup.find('table',{'id':'brewer-beer-table'})\n",
    "            except:\n",
    "                continue\n",
    "\n",
    "        for row in table.find('tbody').find_all('tr'):\n",
    "            beer = {}\n",
    "            beer['name'] = row.find('a').text\n",
    "            beer['style'] = row.find('span').text\n",
    "            beer['link'] = f\"www.ratebeer.com{row.find('a')['href']}\"\n",
    "            beer['brewery'] = brewery['name']\n",
    "            beer['google_map_link'] = brewery['google_map_link']\n",
    "            beer['address'] = brewery['address']\n",
    "            beer['town'] = brewery['town']\n",
    "            beer['state'] = brewery['state']\n",
    "            beer['country'] = brewery['country']\n",
    "            beer['postal_code'] = brewery['postal_code']\n",
    "            try:\n",
    "                beer['style_rating'] = float(row.find_all('td')[-2].text)\n",
    "            except:\n",
    "                beer['style_rating'] = None\n",
    "            try:\n",
    "                beer['abv'] = round(float(row.find('td',{'class':'hidden-xs'}).text)/100,3)\n",
    "            except:\n",
    "                beer['abv'] = None\n",
    "            try:\n",
    "                beer['date_added'] = row.find_all('td',{'class':'text-left'})[0].text\n",
    "            except:\n",
    "                beer['date_added'] = None\n",
    "            try:\n",
    "                beer['rating'] = float(row.find_all('td')[-3].text)\n",
    "            except:\n",
    "                beer['rating'] = None\n",
    "            try:\n",
    "                beer['num_ratings'] = int(row.find_all('td',{'class':'text-left'})[-1].text)\n",
    "            except:        \n",
    "                beer['num_ratings'] = 0\n",
    "\n",
    "            beermenu.append(beer)\n",
    "\n",
    "        allbrews.extend(beermenu)\n",
    "\n",
    "    brewlist = pd.DataFrame(allbrews)\n",
    "\n",
    "    brewlist.to_csv(f'brewlist_{state[\"name\"]}.csv',index=False)\n",
    "\n",
    "driver.close()"
   ]
  },
  {
   "cell_type": "code",
   "execution_count": 5,
   "metadata": {},
   "outputs": [
    {
     "data": {
      "text/plain": [
       "[]"
      ]
     },
     "execution_count": 5,
     "metadata": {},
     "output_type": "execute_result"
    }
   ],
   "source": [
    "allbrews"
   ]
  },
  {
   "cell_type": "code",
   "execution_count": 7,
   "metadata": {},
   "outputs": [],
   "source": [
    "driver = webdriver.Chrome(executable_path='chromedriver.exe')"
   ]
  },
  {
   "cell_type": "code",
   "execution_count": 8,
   "metadata": {},
   "outputs": [],
   "source": [
    "driver.get('https://www.ratebeer.com/breweries/washington-dc/48/213/')\n",
    "\n",
    "sleep(5)\n",
    "html = driver.page_source\n",
    "soup = BeautifulSoup(html, 'lxml')\n",
    "\n",
    "table = soup.find('table',{'id':'brewerTable'})"
   ]
  },
  {
   "cell_type": "code",
   "execution_count": 25,
   "metadata": {},
   "outputs": [],
   "source": [
    "region_brews = []\n",
    "for i in range(len(table.find_all('a'))):\n",
    "    brewery = {}\n",
    "    if i % 2 == 0:\n",
    "        brewery['name'] = table.find_all('a')[i].text\n",
    "        brewery['link'] = f\"http://www.ratebeer.com{table.find_all('a')[i]['href']}\"\n",
    "    else:\n",
    "        continue\n",
    "    region_brews.append(brewery)"
   ]
  },
  {
   "cell_type": "code",
   "execution_count": 26,
   "metadata": {},
   "outputs": [
    {
     "data": {
      "text/plain": [
       "[{'name': ' 3 Stars Brewing Company',\n",
       "  'link': 'http://www.ratebeer.com/brewers/3-stars-brewing-company/12922/'},\n",
       " {'name': ' Atlas Brew Works',\n",
       "  'link': 'http://www.ratebeer.com/brewers/atlas-brew-works/17538/'},\n",
       " {'name': ' Bardo Brewing',\n",
       "  'link': 'http://www.ratebeer.com/brewers/bardo-brewing/20570/'},\n",
       " {'name': ' Bluejacket',\n",
       "  'link': 'http://www.ratebeer.com/brewers/bluejacket/14953/'},\n",
       " {'name': ' ChopHouse & Brewery D.C. (Craftworks)',\n",
       "  'link': 'http://www.ratebeer.com/brewers/chophouse-brewery-dc-craftworks/3527/'},\n",
       " {'name': ' DC Brau Brewing Company',\n",
       "  'link': 'http://www.ratebeer.com/brewers/dc-brau-brewing-company/12763/'},\n",
       " {'name': ' Georgetown Trading Company',\n",
       "  'link': 'http://www.ratebeer.com/brewers/georgetown-trading-company/21759/'},\n",
       " {'name': ' Hellbender Brewing Company',\n",
       "  'link': 'http://www.ratebeer.com/brewers/hellbender-brewing-company/21296/'},\n",
       " {'name': ' Red Bear Brewing Company',\n",
       "  'link': 'http://www.ratebeer.com/brewers/red-bear-brewing-company/39711/'},\n",
       " {'name': ' Right Proper Brewing Company',\n",
       "  'link': 'http://www.ratebeer.com/brewers/right-proper-brewing-company/18273/'},\n",
       " {'name': ' Sankofa Beer Company',\n",
       "  'link': 'http://www.ratebeer.com/brewers/sankofa-beer-company/40119/'},\n",
       " {'name': ' The Public Option',\n",
       "  'link': 'http://www.ratebeer.com/brewers/the-public-option/24838/'},\n",
       " {'name': ' The Pug',\n",
       "  'link': 'http://www.ratebeer.com/brewers/the-pug/14199/'},\n",
       " {'name': ' Valor Brewpub',\n",
       "  'link': 'http://www.ratebeer.com/brewers/valor-brewpub/38611/'}]"
      ]
     },
     "execution_count": 26,
     "metadata": {},
     "output_type": "execute_result"
    }
   ],
   "source": [
    "region_brews"
   ]
  },
  {
   "cell_type": "code",
   "execution_count": 27,
   "metadata": {},
   "outputs": [],
   "source": [
    "allbrews = []"
   ]
  },
  {
   "cell_type": "code",
   "execution_count": 42,
   "metadata": {},
   "outputs": [
    {
     "data": {
      "text/plain": [
       "[{'name': ' 3 Stars Brewing Company',\n",
       "  'link': 'http://www.ratebeer.com/brewers/3-stars-brewing-company/12922/',\n",
       "  'google_map_link': None},\n",
       " {'name': ' Atlas Brew Works',\n",
       "  'link': 'http://www.ratebeer.com/brewers/atlas-brew-works/17538/',\n",
       "  'google_map_link': None},\n",
       " {'name': ' Bardo Brewing',\n",
       "  'link': 'http://www.ratebeer.com/brewers/bardo-brewing/20570/',\n",
       "  'google_map_link': None},\n",
       " {'name': ' Bluejacket',\n",
       "  'link': 'http://www.ratebeer.com/brewers/bluejacket/14953/',\n",
       "  'google_map_link': None},\n",
       " {'name': ' ChopHouse & Brewery D.C. (Craftworks)',\n",
       "  'link': 'http://www.ratebeer.com/brewers/chophouse-brewery-dc-craftworks/3527/',\n",
       "  'google_map_link': None},\n",
       " {'name': ' DC Brau Brewing Company',\n",
       "  'link': 'http://www.ratebeer.com/brewers/dc-brau-brewing-company/12763/',\n",
       "  'google_map_link': None},\n",
       " {'name': ' Georgetown Trading Company',\n",
       "  'link': 'http://www.ratebeer.com/brewers/georgetown-trading-company/21759/',\n",
       "  'google_map_link': None},\n",
       " {'name': ' Hellbender Brewing Company',\n",
       "  'link': 'http://www.ratebeer.com/brewers/hellbender-brewing-company/21296/',\n",
       "  'google_map_link': None},\n",
       " {'name': ' Red Bear Brewing Company',\n",
       "  'link': 'http://www.ratebeer.com/brewers/red-bear-brewing-company/39711/',\n",
       "  'google_map_link': None},\n",
       " {'name': ' Right Proper Brewing Company',\n",
       "  'link': 'http://www.ratebeer.com/brewers/right-proper-brewing-company/18273/',\n",
       "  'google_map_link': None},\n",
       " {'name': ' Sankofa Beer Company',\n",
       "  'link': 'http://www.ratebeer.com/brewers/sankofa-beer-company/40119/',\n",
       "  'google_map_link': None},\n",
       " {'name': ' The Public Option',\n",
       "  'link': 'http://www.ratebeer.com/brewers/the-public-option/24838/',\n",
       "  'google_map_link': None},\n",
       " {'name': ' The Pug',\n",
       "  'link': 'http://www.ratebeer.com/brewers/the-pug/14199/',\n",
       "  'google_map_link': None},\n",
       " {'name': ' Valor Brewpub',\n",
       "  'link': 'http://www.ratebeer.com/brewers/valor-brewpub/38611/',\n",
       "  'google_map_link': None}]"
      ]
     },
     "execution_count": 42,
     "metadata": {},
     "output_type": "execute_result"
    }
   ],
   "source": [
    "region_brews"
   ]
  },
  {
   "cell_type": "code",
   "execution_count": 41,
   "metadata": {},
   "outputs": [
    {
     "data": {
      "text/plain": [
       "[]"
      ]
     },
     "execution_count": 41,
     "metadata": {},
     "output_type": "execute_result"
    }
   ],
   "source": [
    "soup.find_all('table', {'class' : 'MuiTable-root'})"
   ]
  },
  {
   "cell_type": "code",
   "execution_count": 43,
   "metadata": {},
   "outputs": [],
   "source": [
    "url = 'http://www.ratebeer.com/brewers/chophouse-brewery-dc-craftworks/3527/'"
   ]
  },
  {
   "cell_type": "code",
   "execution_count": 44,
   "metadata": {},
   "outputs": [],
   "source": [
    "driver.get(url)\n",
    "sleep(10)\n",
    "html = driver.page_source\n",
    "soup = BeautifulSoup(html, 'lxml')"
   ]
  },
  {
   "cell_type": "code",
   "execution_count": 51,
   "metadata": {},
   "outputs": [
    {
     "name": "stdout",
     "output_type": "stream",
     "text": [
      "[<tbody class=\"MuiTableBody-root\"><tr _css=\"\" class=\"MuiTableRow-root BeerTableRowListView___StyledTableRow-bnmiUX eitoNp\"><td class=\"MuiTableCell-root MuiTableCell-body py-4 MuiTableCell-sizeSmall\"><div class=\"fd-r fa-c\"><div class=\"fd-c fj-s ml-4\"><a href=\"/beer/chophouse-and-d-c/747058/\"><div class=\"fd-r fa-c\"><div _color=\"#424242\" _css=\"\" _css2=\"\" _css3=\"\" _css4=\"\" _css5=\"\" _css6=\"\" _css7=\"\" class=\"MuiTypography-root Text___StyledTypographyTypeless-bukSfn pzIrn text-500 colorized__WrappedComponent-hrwcZr bRPQdN MuiTypography-subtitle1\">ChopHouse &amp; D.C.</div></div></a><div class=\"fd-r fa-c\"><div _color=\"#757575\" _css=\"\" _css2=\"\" _css3=\"\" _css4=\"\" _css5=\"\" _css6=\"\" _css7=\"\" class=\"MuiTypography-root Text___StyledTypographyTypeless-bukSfn pzIrn colorized__WrappedComponent-hrwcZr gRvDpm fd-r fa-c MuiTypography-body2\">Stout - Oatmeal</div></div></div></div></td><td class=\"MuiTableCell-root MuiTableCell-body MuiTableCell-sizeSmall\"><div _css=\"\" _css2=\"line-height: 16px;\" _css3=\"\" _css4=\"\" _css5=\"\" _css6=\"\" _css7=\"\" class=\"MuiTypography-root Text___StyledTypographyTypeless-bukSfn kbrPIo colorized__WrappedComponent-hrwcZr hwjOn MuiTypography-caption\">-</div></td><td class=\"MuiTableCell-root MuiTableCell-body MuiTableCell-sizeSmall\"><div class=\"fd-r\"><div _css=\"\" _css2=\"line-height: 16px;\" _css3=\"\" _css4=\"\" _css5=\"\" _css6=\"\" _css7=\"\" class=\"MuiTypography-root Text___StyledTypographyTypeless-bukSfn kbrPIo colorized__WrappedComponent-hrwcZr hwjOn BeerTableRowListView___StyledText-kMqUGU drAXVL MuiTypography-caption\"></div></div></td><td class=\"MuiTableCell-root MuiTableCell-body MuiTableCell-sizeSmall\"><div _css=\"\" _css2=\"line-height: 16px;\" _css3=\"\" _css4=\"\" _css5=\"\" _css6=\"\" _css7=\"\" class=\"MuiTypography-root Text___StyledTypographyTypeless-bukSfn kbrPIo colorized__WrappedComponent-hrwcZr hwjOn MuiTypography-caption\">-</div></td><td class=\"MuiTableCell-root MuiTableCell-body MuiTableCell-sizeSmall\"><div _css=\"\" _css2=\"line-height: 16px;\" _css3=\"\" _css4=\"\" _css5=\"\" _css6=\"\" _css7=\"\" class=\"MuiTypography-root Text___StyledTypographyTypeless-bukSfn kbrPIo colorized__WrappedComponent-hrwcZr hwjOn MuiTypography-caption\">-</div></td><td class=\"MuiTableCell-root MuiTableCell-body MuiTableCell-sizeSmall\"><div _css=\"\" _css2=\"line-height: 16px;\" _css3=\"\" _css4=\"\" _css5=\"\" _css6=\"\" _css7=\"\" class=\"MuiTypography-root Text___StyledTypographyTypeless-bukSfn kbrPIo colorized__WrappedComponent-hrwcZr hwjOn MuiTypography-caption\">0</div></td><td class=\"MuiTableCell-root MuiTableCell-body MuiTableCell-sizeSmall\"><div _css=\"\" _css2=\"line-height: 16px;\" _css3=\"\" _css4=\"\" _css5=\"\" _css6=\"\" _css7=\"\" class=\"MuiTypography-root Text___StyledTypographyTypeless-bukSfn kbrPIo colorized__WrappedComponent-hrwcZr hwjOn MuiTypography-caption\">6.6</div></td><td class=\"MuiTableCell-root MuiTableCell-body MuiTableCell-sizeSmall\"><div class=\"fd-r fa-c fj-sb\"><div _css=\"\" _css2=\"line-height: 16px;\" _css3=\"\" _css4=\"\" _css5=\"\" _css6=\"\" _css7=\"\" class=\"MuiTypography-root Text___StyledTypographyTypeless-bukSfn kbrPIo colorized__WrappedComponent-hrwcZr hwjOn BeerTableRowListView___StyledText2-bXviuC hVnzAg MuiTypography-caption\">Jul 04, 2019</div><div class=\"BeerTableRowListView___StyledDiv-bdHNCj ftFTDl\"></div></div></td></tr><tr _css=\"\" class=\"MuiTableRow-root BeerTableRowListView___StyledTableRow-bnmiUX eitoNp\"><td class=\"MuiTableCell-root MuiTableCell-body py-4 MuiTableCell-sizeSmall\"><div class=\"fd-r fa-c\"><div class=\"fd-c fj-s ml-4\"><a href=\"/beer/dc-solidarity-saison-2012/182421/\"><div class=\"fd-r fa-c\"><div _color=\"#424242\" _css=\"\" _css2=\"\" _css3=\"\" _css4=\"\" _css5=\"\" _css6=\"\" _css7=\"\" class=\"MuiTypography-root Text___StyledTypographyTypeless-bukSfn pzIrn text-500 colorized__WrappedComponent-hrwcZr bRPQdN MuiTypography-subtitle1\">DC Solidarity Saison 2012</div></div></a><div class=\"fd-r fa-c\"><div _color=\"#ba68c8\" _css=\"\" _css2=\"\" _css3=\"\" _css4=\"\" _css5=\"\" _css6=\"\" _css7=\"\n",
      "                color: purple;\n",
      "                line-height: 16px;\n",
      "                font-size: 10px;\n",
      "              \" class=\"MuiTypography-root Text___StyledTypographyTypeless-bukSfn eDvAVb text-500 colorized__WrappedComponent-hrwcZr fpOFJV mr-2 MuiTypography-caption\">RETIRED  •  </div><div _color=\"#757575\" _css=\"\" _css2=\"\" _css3=\"\" _css4=\"\" _css5=\"\" _css6=\"\" _css7=\"\" class=\"MuiTypography-root Text___StyledTypographyTypeless-bukSfn pzIrn colorized__WrappedComponent-hrwcZr gRvDpm fd-r fa-c MuiTypography-body2\">Saison / Farmhouse / Grisette</div></div></div></div></td><td class=\"MuiTableCell-root MuiTableCell-body MuiTableCell-sizeSmall\"><div _css=\"\" _css2=\"line-height: 16px;\" _css3=\"\" _css4=\"\" _css5=\"\" _css6=\"\" _css7=\"\" class=\"MuiTypography-root Text___StyledTypographyTypeless-bukSfn kbrPIo colorized__WrappedComponent-hrwcZr hwjOn MuiTypography-caption\">-</div></td><td class=\"MuiTableCell-root MuiTableCell-body MuiTableCell-sizeSmall\"><div class=\"fd-r\"><div _css=\"\" _css2=\"line-height: 16px;\" _css3=\"\" _css4=\"\" _css5=\"\" _css6=\"\" _css7=\"\" class=\"MuiTypography-root Text___StyledTypographyTypeless-bukSfn kbrPIo colorized__WrappedComponent-hrwcZr hwjOn BeerTableRowListView___StyledText-kMqUGU drAXVL MuiTypography-caption\">3.19</div></div></td><td class=\"MuiTableCell-root MuiTableCell-body MuiTableCell-sizeSmall\"><div _css=\"\" _css2=\"line-height: 16px;\" _css3=\"\" _css4=\"\" _css5=\"\" _css6=\"\" _css7=\"\" class=\"MuiTypography-root Text___StyledTypographyTypeless-bukSfn kbrPIo colorized__WrappedComponent-hrwcZr hwjOn MuiTypography-caption\">-</div></td><td class=\"MuiTableCell-root MuiTableCell-body MuiTableCell-sizeSmall\"><div _css=\"\" _css2=\"line-height: 16px;\" _css3=\"\" _css4=\"\" _css5=\"\" _css6=\"\" _css7=\"\" class=\"MuiTypography-root Text___StyledTypographyTypeless-bukSfn kbrPIo colorized__WrappedComponent-hrwcZr hwjOn MuiTypography-caption\">-</div></td><td class=\"MuiTableCell-root MuiTableCell-body MuiTableCell-sizeSmall\"><div _css=\"\" _css2=\"line-height: 16px;\" _css3=\"\" _css4=\"\" _css5=\"\" _css6=\"\" _css7=\"\" class=\"MuiTypography-root Text___StyledTypographyTypeless-bukSfn kbrPIo colorized__WrappedComponent-hrwcZr hwjOn MuiTypography-caption\">5</div></td><td class=\"MuiTableCell-root MuiTableCell-body MuiTableCell-sizeSmall\"><div _css=\"\" _css2=\"line-height: 16px;\" _css3=\"\" _css4=\"\" _css5=\"\" _css6=\"\" _css7=\"\" class=\"MuiTypography-root Text___StyledTypographyTypeless-bukSfn kbrPIo colorized__WrappedComponent-hrwcZr hwjOn MuiTypography-caption\">6.4</div></td><td class=\"MuiTableCell-root MuiTableCell-body MuiTableCell-sizeSmall\"><div class=\"fd-r fa-c fj-sb\"><div _css=\"\" _css2=\"line-height: 16px;\" _css3=\"\" _css4=\"\" _css5=\"\" _css6=\"\" _css7=\"\" class=\"MuiTypography-root Text___StyledTypographyTypeless-bukSfn kbrPIo colorized__WrappedComponent-hrwcZr hwjOn BeerTableRowListView___StyledText2-bXviuC hVnzAg MuiTypography-caption\">Aug 13, 2012</div><div class=\"BeerTableRowListView___StyledDiv-bdHNCj ftFTDl\"></div></div></td></tr><tr _css=\"\" class=\"MuiTableRow-root BeerTableRowListView___StyledTableRow-bnmiUX eitoNp\"><td class=\"MuiTableCell-root MuiTableCell-body py-4 MuiTableCell-sizeSmall\"><div class=\"fd-r fa-c\"><div class=\"fd-c fj-s ml-4\"><a href=\"/beer/district-chophouse-dc-beer-decade-dunkel-sunbeam/774964/\"><div class=\"fd-r fa-c\"><div _color=\"#424242\" _css=\"\" _css2=\"\" _css3=\"\" _css4=\"\" _css5=\"\" _css6=\"\" _css7=\"\" class=\"MuiTypography-root Text___StyledTypographyTypeless-bukSfn pzIrn text-500 colorized__WrappedComponent-hrwcZr bRPQdN MuiTypography-subtitle1\">District ChopHouse / DC Beer Decade Dunkel: Sunbeam</div></div></a><div class=\"fd-r fa-c\"><div _color=\"#757575\" _css=\"\" _css2=\"\" _css3=\"\" _css4=\"\" _css5=\"\" _css6=\"\" _css7=\"\" class=\"MuiTypography-root Text___StyledTypographyTypeless-bukSfn pzIrn colorized__WrappedComponent-hrwcZr gRvDpm fd-r fa-c MuiTypography-body2\">Dark Lager - Dunkel / Tmavý</div></div></div></div></td><td class=\"MuiTableCell-root MuiTableCell-body MuiTableCell-sizeSmall\"><div _css=\"\" _css2=\"line-height: 16px;\" _css3=\"\" _css4=\"\" _css5=\"\" _css6=\"\" _css7=\"\" class=\"MuiTypography-root Text___StyledTypographyTypeless-bukSfn kbrPIo colorized__WrappedComponent-hrwcZr hwjOn MuiTypography-caption\">-</div></td><td class=\"MuiTableCell-root MuiTableCell-body MuiTableCell-sizeSmall\"><div class=\"fd-r\"><div _css=\"\" _css2=\"line-height: 16px;\" _css3=\"\" _css4=\"\" _css5=\"\" _css6=\"\" _css7=\"\" class=\"MuiTypography-root Text___StyledTypographyTypeless-bukSfn kbrPIo colorized__WrappedComponent-hrwcZr hwjOn BeerTableRowListView___StyledText-kMqUGU drAXVL MuiTypography-caption\"></div></div></td><td class=\"MuiTableCell-root MuiTableCell-body MuiTableCell-sizeSmall\"><div _css=\"\" _css2=\"line-height: 16px;\" _css3=\"\" _css4=\"\" _css5=\"\" _css6=\"\" _css7=\"\" class=\"MuiTypography-root Text___StyledTypographyTypeless-bukSfn kbrPIo colorized__WrappedComponent-hrwcZr hwjOn MuiTypography-caption\">-</div></td><td class=\"MuiTableCell-root MuiTableCell-body MuiTableCell-sizeSmall\"><div _css=\"\" _css2=\"line-height: 16px;\" _css3=\"\" _css4=\"\" _css5=\"\" _css6=\"\" _css7=\"\" class=\"MuiTypography-root Text___StyledTypographyTypeless-bukSfn kbrPIo colorized__WrappedComponent-hrwcZr hwjOn MuiTypography-caption\">-</div></td><td class=\"MuiTableCell-root MuiTableCell-body MuiTableCell-sizeSmall\"><div _css=\"\" _css2=\"line-height: 16px;\" _css3=\"\" _css4=\"\" _css5=\"\" _css6=\"\" _css7=\"\" class=\"MuiTypography-root Text___StyledTypographyTypeless-bukSfn kbrPIo colorized__WrappedComponent-hrwcZr hwjOn MuiTypography-caption\">0</div></td><td class=\"MuiTableCell-root MuiTableCell-body MuiTableCell-sizeSmall\"><div _css=\"\" _css2=\"line-height: 16px;\" _css3=\"\" _css4=\"\" _css5=\"\" _css6=\"\" _css7=\"\" class=\"MuiTypography-root Text___StyledTypographyTypeless-bukSfn kbrPIo colorized__WrappedComponent-hrwcZr hwjOn MuiTypography-caption\">5.6</div></td><td class=\"MuiTableCell-root MuiTableCell-body MuiTableCell-sizeSmall\"><div class=\"fd-r fa-c fj-sb\"><div _css=\"\" _css2=\"line-height: 16px;\" _css3=\"\" _css4=\"\" _css5=\"\" _css6=\"\" _css7=\"\" class=\"MuiTypography-root Text___StyledTypographyTypeless-bukSfn kbrPIo colorized__WrappedComponent-hrwcZr hwjOn BeerTableRowListView___StyledText2-bXviuC hVnzAg MuiTypography-caption\">Oct 08, 2019</div><div class=\"BeerTableRowListView___StyledDiv-bdHNCj ftFTDl\"></div></div></td></tr><tr _css=\"\" class=\"MuiTableRow-root BeerTableRowListView___StyledTableRow-bnmiUX eitoNp\"><td class=\"MuiTableCell-root MuiTableCell-body py-4 MuiTableCell-sizeSmall\"><div class=\"fd-r fa-c\"><div class=\"fd-c fj-s ml-4\"><a href=\"/beer/district-chophouse-alexander-the-gr8/660267/\"><div class=\"fd-r fa-c\"><div _color=\"#424242\" _css=\"\" _css2=\"\" _css3=\"\" _css4=\"\" _css5=\"\" _css6=\"\" _css7=\"\" class=\"MuiTypography-root Text___StyledTypographyTypeless-bukSfn pzIrn text-500 colorized__WrappedComponent-hrwcZr bRPQdN MuiTypography-subtitle1\">District ChopHouse Alexander the Gr8</div></div></a><div class=\"fd-r fa-c\"><div _color=\"#757575\" _css=\"\" _css2=\"\" _css3=\"\" _css4=\"\" _css5=\"\" _css6=\"\" _css7=\"\" class=\"MuiTypography-root Text___StyledTypographyTypeless-bukSfn pzIrn colorized__WrappedComponent-hrwcZr gRvDpm fd-r fa-c MuiTypography-body2\">Stout - Imperial</div></div></div></div></td><td class=\"MuiTableCell-root MuiTableCell-body MuiTableCell-sizeSmall\"><div _css=\"\" _css2=\"line-height: 16px;\" _css3=\"\" _css4=\"\" _css5=\"\" _css6=\"\" _css7=\"\" class=\"MuiTypography-root Text___StyledTypographyTypeless-bukSfn kbrPIo colorized__WrappedComponent-hrwcZr hwjOn MuiTypography-caption\">-</div></td><td class=\"MuiTableCell-root MuiTableCell-body MuiTableCell-sizeSmall\"><div class=\"fd-r\"><div _css=\"\" _css2=\"line-height: 16px;\" _css3=\"\" _css4=\"\" _css5=\"\" _css6=\"\" _css7=\"\" class=\"MuiTypography-root Text___StyledTypographyTypeless-bukSfn kbrPIo colorized__WrappedComponent-hrwcZr hwjOn BeerTableRowListView___StyledText-kMqUGU drAXVL MuiTypography-caption\">3.02</div></div></td><td class=\"MuiTableCell-root MuiTableCell-body MuiTableCell-sizeSmall\"><div _css=\"\" _css2=\"line-height: 16px;\" _css3=\"\" _css4=\"\" _css5=\"\" _css6=\"\" _css7=\"\" class=\"MuiTypography-root Text___StyledTypographyTypeless-bukSfn kbrPIo colorized__WrappedComponent-hrwcZr hwjOn MuiTypography-caption\">-</div></td><td class=\"MuiTableCell-root MuiTableCell-body MuiTableCell-sizeSmall\"><div _css=\"\" _css2=\"line-height: 16px;\" _css3=\"\" _css4=\"\" _css5=\"\" _css6=\"\" _css7=\"\" class=\"MuiTypography-root Text___StyledTypographyTypeless-bukSfn kbrPIo colorized__WrappedComponent-hrwcZr hwjOn MuiTypography-caption\">-</div></td><td class=\"MuiTableCell-root MuiTableCell-body MuiTableCell-sizeSmall\"><div _css=\"\" _css2=\"line-height: 16px;\" _css3=\"\" _css4=\"\" _css5=\"\" _css6=\"\" _css7=\"\" class=\"MuiTypography-root Text___StyledTypographyTypeless-bukSfn kbrPIo colorized__WrappedComponent-hrwcZr hwjOn MuiTypography-caption\">2</div></td><td class=\"MuiTableCell-root MuiTableCell-body MuiTableCell-sizeSmall\"><div _css=\"\" _css2=\"line-height: 16px;\" _css3=\"\" _css4=\"\" _css5=\"\" _css6=\"\" _css7=\"\" class=\"MuiTypography-root Text___StyledTypographyTypeless-bukSfn kbrPIo colorized__WrappedComponent-hrwcZr hwjOn MuiTypography-caption\">10.5</div></td><td class=\"MuiTableCell-root MuiTableCell-body MuiTableCell-sizeSmall\"><div class=\"fd-r fa-c fj-sb\"><div _css=\"\" _css2=\"line-height: 16px;\" _css3=\"\" _css4=\"\" _css5=\"\" _css6=\"\" _css7=\"\" class=\"MuiTypography-root Text___StyledTypographyTypeless-bukSfn kbrPIo colorized__WrappedComponent-hrwcZr hwjOn BeerTableRowListView___StyledText2-bXviuC hVnzAg MuiTypography-caption\">Sep 23, 2018</div><div class=\"BeerTableRowListView___StyledDiv-bdHNCj ftFTDl\"></div></div></td></tr><tr _css=\"\" class=\"MuiTableRow-root BeerTableRowListView___StyledTableRow-bnmiUX eitoNp\"><td class=\"MuiTableCell-root MuiTableCell-body py-4 MuiTableCell-sizeSmall\"><div class=\"fd-r fa-c\"><div class=\"fd-c fj-s ml-4\"><a href=\"/beer/district-chophouse-alexander-the-gr8-coffee/670056/\"><div class=\"fd-r fa-c\"><div _color=\"#424242\" _css=\"\" _css2=\"\" _css3=\"\" _css4=\"\" _css5=\"\" _css6=\"\" _css7=\"\" class=\"MuiTypography-root Text___StyledTypographyTypeless-bukSfn pzIrn text-500 colorized__WrappedComponent-hrwcZr bRPQdN MuiTypography-subtitle1\">District ChopHouse Alexander the Gr8 (Coffee)</div></div></a><div class=\"fd-r fa-c\"><div _color=\"#757575\" _css=\"\" _css2=\"\" _css3=\"\" _css4=\"\" _css5=\"\" _css6=\"\" _css7=\"\" class=\"MuiTypography-root Text___StyledTypographyTypeless-bukSfn pzIrn colorized__WrappedComponent-hrwcZr gRvDpm fd-r fa-c MuiTypography-body2\">Stout - Imperial</div></div></div></div></td><td class=\"MuiTableCell-root MuiTableCell-body MuiTableCell-sizeSmall\"><div _css=\"\" _css2=\"line-height: 16px;\" _css3=\"\" _css4=\"\" _css5=\"\" _css6=\"\" _css7=\"\" class=\"MuiTypography-root Text___StyledTypographyTypeless-bukSfn kbrPIo colorized__WrappedComponent-hrwcZr hwjOn MuiTypography-caption\">-</div></td><td class=\"MuiTableCell-root MuiTableCell-body MuiTableCell-sizeSmall\"><div class=\"fd-r\"><div _css=\"\" _css2=\"line-height: 16px;\" _css3=\"\" _css4=\"\" _css5=\"\" _css6=\"\" _css7=\"\" class=\"MuiTypography-root Text___StyledTypographyTypeless-bukSfn kbrPIo colorized__WrappedComponent-hrwcZr hwjOn BeerTableRowListView___StyledText-kMqUGU drAXVL MuiTypography-caption\">3.11</div></div></td><td class=\"MuiTableCell-root MuiTableCell-body MuiTableCell-sizeSmall\"><div _css=\"\" _css2=\"line-height: 16px;\" _css3=\"\" _css4=\"\" _css5=\"\" _css6=\"\" _css7=\"\" class=\"MuiTypography-root Text___StyledTypographyTypeless-bukSfn kbrPIo colorized__WrappedComponent-hrwcZr hwjOn MuiTypography-caption\">-</div></td><td class=\"MuiTableCell-root MuiTableCell-body MuiTableCell-sizeSmall\"><div _css=\"\" _css2=\"line-height: 16px;\" _css3=\"\" _css4=\"\" _css5=\"\" _css6=\"\" _css7=\"\" class=\"MuiTypography-root Text___StyledTypographyTypeless-bukSfn kbrPIo colorized__WrappedComponent-hrwcZr hwjOn MuiTypography-caption\">-</div></td><td class=\"MuiTableCell-root MuiTableCell-body MuiTableCell-sizeSmall\"><div _css=\"\" _css2=\"line-height: 16px;\" _css3=\"\" _css4=\"\" _css5=\"\" _css6=\"\" _css7=\"\" class=\"MuiTypography-root Text___StyledTypographyTypeless-bukSfn kbrPIo colorized__WrappedComponent-hrwcZr hwjOn MuiTypography-caption\">1</div></td><td class=\"MuiTableCell-root MuiTableCell-body MuiTableCell-sizeSmall\"><div _css=\"\" _css2=\"line-height: 16px;\" _css3=\"\" _css4=\"\" _css5=\"\" _css6=\"\" _css7=\"\" class=\"MuiTypography-root Text___StyledTypographyTypeless-bukSfn kbrPIo colorized__WrappedComponent-hrwcZr hwjOn MuiTypography-caption\">11.1</div></td><td class=\"MuiTableCell-root MuiTableCell-body MuiTableCell-sizeSmall\"><div class=\"fd-r fa-c fj-sb\"><div _css=\"\" _css2=\"line-height: 16px;\" _css3=\"\" _css4=\"\" _css5=\"\" _css6=\"\" _css7=\"\" class=\"MuiTypography-root Text___StyledTypographyTypeless-bukSfn kbrPIo colorized__WrappedComponent-hrwcZr hwjOn BeerTableRowListView___StyledText2-bXviuC hVnzAg MuiTypography-caption\">Oct 25, 2018</div><div class=\"BeerTableRowListView___StyledDiv-bdHNCj ftFTDl\"></div></div></td></tr><tr _css=\"\" class=\"MuiTableRow-root BeerTableRowListView___StyledTableRow-bnmiUX eitoNp\"><td class=\"MuiTableCell-root MuiTableCell-body py-4 MuiTableCell-sizeSmall\"><div class=\"fd-r fa-c\"><div class=\"fd-c fj-s ml-4\"><a href=\"/beer/district-chophouse-alt-together-now/129256/\"><div class=\"fd-r fa-c\"><div _color=\"#424242\" _css=\"\" _css2=\"\" _css3=\"\" _css4=\"\" _css5=\"\" _css6=\"\" _css7=\"\" class=\"MuiTypography-root Text___StyledTypographyTypeless-bukSfn pzIrn text-500 colorized__WrappedComponent-hrwcZr bRPQdN MuiTypography-subtitle1\">District ChopHouse Alt Together Now</div></div></a><div class=\"fd-r fa-c\"><div _color=\"#757575\" _css=\"\" _css2=\"\" _css3=\"\" _css4=\"\" _css5=\"\" _css6=\"\" _css7=\"\" class=\"MuiTypography-root Text___StyledTypographyTypeless-bukSfn pzIrn colorized__WrappedComponent-hrwcZr gRvDpm fd-r fa-c MuiTypography-body2\">Altbier / Sticke Alt</div></div></div></div></td><td class=\"MuiTableCell-root MuiTableCell-body MuiTableCell-sizeSmall\"><div _css=\"\" _css2=\"line-height: 16px;\" _css3=\"\" _css4=\"\" _css5=\"\" _css6=\"\" _css7=\"\" class=\"MuiTypography-root Text___StyledTypographyTypeless-bukSfn kbrPIo colorized__WrappedComponent-hrwcZr hwjOn MuiTypography-caption\">-</div></td><td class=\"MuiTableCell-root MuiTableCell-body MuiTableCell-sizeSmall\"><div class=\"fd-r\"><div _css=\"\" _css2=\"line-height: 16px;\" _css3=\"\" _css4=\"\" _css5=\"\" _css6=\"\" _css7=\"\" class=\"MuiTypography-root Text___StyledTypographyTypeless-bukSfn kbrPIo colorized__WrappedComponent-hrwcZr hwjOn BeerTableRowListView___StyledText-kMqUGU drAXVL MuiTypography-caption\">2.90</div></div></td><td class=\"MuiTableCell-root MuiTableCell-body MuiTableCell-sizeSmall\"><div _css=\"\" _css2=\"line-height: 16px;\" _css3=\"\" _css4=\"\" _css5=\"\" _css6=\"\" _css7=\"\" class=\"MuiTypography-root Text___StyledTypographyTypeless-bukSfn kbrPIo colorized__WrappedComponent-hrwcZr hwjOn MuiTypography-caption\">-</div></td><td class=\"MuiTableCell-root MuiTableCell-body MuiTableCell-sizeSmall\"><div _css=\"\" _css2=\"line-height: 16px;\" _css3=\"\" _css4=\"\" _css5=\"\" _css6=\"\" _css7=\"\" class=\"MuiTypography-root Text___StyledTypographyTypeless-bukSfn kbrPIo colorized__WrappedComponent-hrwcZr hwjOn MuiTypography-caption\">-</div></td><td class=\"MuiTableCell-root MuiTableCell-body MuiTableCell-sizeSmall\"><div _css=\"\" _css2=\"line-height: 16px;\" _css3=\"\" _css4=\"\" _css5=\"\" _css6=\"\" _css7=\"\" class=\"MuiTypography-root Text___StyledTypographyTypeless-bukSfn kbrPIo colorized__WrappedComponent-hrwcZr hwjOn MuiTypography-caption\">5</div></td><td class=\"MuiTableCell-root MuiTableCell-body MuiTableCell-sizeSmall\"><div _css=\"\" _css2=\"line-height: 16px;\" _css3=\"\" _css4=\"\" _css5=\"\" _css6=\"\" _css7=\"\" class=\"MuiTypography-root Text___StyledTypographyTypeless-bukSfn kbrPIo colorized__WrappedComponent-hrwcZr hwjOn MuiTypography-caption\">5.0</div></td><td class=\"MuiTableCell-root MuiTableCell-body MuiTableCell-sizeSmall\"><div class=\"fd-r fa-c fj-sb\"><div _css=\"\" _css2=\"line-height: 16px;\" _css3=\"\" _css4=\"\" _css5=\"\" _css6=\"\" _css7=\"\" class=\"MuiTypography-root Text___StyledTypographyTypeless-bukSfn kbrPIo colorized__WrappedComponent-hrwcZr hwjOn BeerTableRowListView___StyledText2-bXviuC hVnzAg MuiTypography-caption\">Aug 27, 2010</div><div class=\"BeerTableRowListView___StyledDiv-bdHNCj ftFTDl\"></div></div></td></tr><tr _css=\"\" class=\"MuiTableRow-root BeerTableRowListView___StyledTableRow-bnmiUX eitoNp\"><td class=\"MuiTableCell-root MuiTableCell-body py-4 MuiTableCell-sizeSmall\"><div class=\"fd-r fa-c\"><div class=\"fd-c fj-s ml-4\"><a href=\"/beer/district-chophouse-amber-ale/22011/\"><div class=\"fd-r fa-c\"><div _color=\"#424242\" _css=\"\" _css2=\"\" _css3=\"\" _css4=\"\" _css5=\"\" _css6=\"\" _css7=\"\" class=\"MuiTypography-root Text___StyledTypographyTypeless-bukSfn pzIrn text-500 colorized__WrappedComponent-hrwcZr bRPQdN MuiTypography-subtitle1\">District ChopHouse Amber Ale</div></div></a><div class=\"fd-r fa-c\"><div _color=\"#757575\" _css=\"\" _css2=\"\" _css3=\"\" _css4=\"\" _css5=\"\" _css6=\"\" _css7=\"\" class=\"MuiTypography-root Text___StyledTypographyTypeless-bukSfn pzIrn colorized__WrappedComponent-hrwcZr gRvDpm fd-r fa-c MuiTypography-body2\">Red Ale / Intl Amber Ale</div></div></div></div></td><td class=\"MuiTableCell-root MuiTableCell-body MuiTableCell-sizeSmall\"><div _css=\"\" _css2=\"line-height: 16px;\" _css3=\"\" _css4=\"\" _css5=\"\" _css6=\"\" _css7=\"\" class=\"MuiTypography-root Text___StyledTypographyTypeless-bukSfn kbrPIo colorized__WrappedComponent-hrwcZr hwjOn MuiTypography-caption\">-</div></td><td class=\"MuiTableCell-root MuiTableCell-body MuiTableCell-sizeSmall\"><div class=\"fd-r\"><div _css=\"\" _css2=\"line-height: 16px;\" _css3=\"\" _css4=\"\" _css5=\"\" _css6=\"\" _css7=\"\" class=\"MuiTypography-root Text___StyledTypographyTypeless-bukSfn kbrPIo colorized__WrappedComponent-hrwcZr hwjOn BeerTableRowListView___StyledText-kMqUGU drAXVL MuiTypography-caption\">3.15</div></div></td><td class=\"MuiTableCell-root MuiTableCell-body MuiTableCell-sizeSmall\"><div _css=\"\" _css2=\"line-height: 16px;\" _css3=\"\" _css4=\"\" _css5=\"\" _css6=\"\" _css7=\"\" class=\"MuiTypography-root Text___StyledTypographyTypeless-bukSfn kbrPIo colorized__WrappedComponent-hrwcZr hwjOn MuiTypography-caption\">45</div></td><td class=\"MuiTableCell-root MuiTableCell-body MuiTableCell-sizeSmall\"><div _css=\"\" _css2=\"line-height: 16px;\" _css3=\"\" _css4=\"\" _css5=\"\" _css6=\"\" _css7=\"\" class=\"MuiTypography-root Text___StyledTypographyTypeless-bukSfn kbrPIo colorized__WrappedComponent-hrwcZr hwjOn MuiTypography-caption\">66</div></td><td class=\"MuiTableCell-root MuiTableCell-body MuiTableCell-sizeSmall\"><div _css=\"\" _css2=\"line-height: 16px;\" _css3=\"\" _css4=\"\" _css5=\"\" _css6=\"\" _css7=\"\" class=\"MuiTypography-root Text___StyledTypographyTypeless-bukSfn kbrPIo colorized__WrappedComponent-hrwcZr hwjOn MuiTypography-caption\">72</div></td><td class=\"MuiTableCell-root MuiTableCell-body MuiTableCell-sizeSmall\"><div _css=\"\" _css2=\"line-height: 16px;\" _css3=\"\" _css4=\"\" _css5=\"\" _css6=\"\" _css7=\"\" class=\"MuiTypography-root Text___StyledTypographyTypeless-bukSfn kbrPIo colorized__WrappedComponent-hrwcZr hwjOn MuiTypography-caption\">5.2</div></td><td class=\"MuiTableCell-root MuiTableCell-body MuiTableCell-sizeSmall\"><div class=\"fd-r fa-c fj-sb\"><div _css=\"\" _css2=\"line-height: 16px;\" _css3=\"\" _css4=\"\" _css5=\"\" _css6=\"\" _css7=\"\" class=\"MuiTypography-root Text___StyledTypographyTypeless-bukSfn kbrPIo colorized__WrappedComponent-hrwcZr hwjOn BeerTableRowListView___StyledText2-bXviuC hVnzAg MuiTypography-caption\">Feb 10, 2003</div><div class=\"BeerTableRowListView___StyledDiv-bdHNCj ftFTDl\"></div></div></td></tr><tr _css=\"#fafafa\" class=\"MuiTableRow-root BeerAliasRow___StyledTableRow-bFzfiW cDluJw\"><td class=\"MuiTableCell-root MuiTableCell-body py-4 MuiTableCell-sizeSmall\"><div class=\"fd-r fa-c\"><div class=\"fg-1 fa-c\"><div class=\"fd-c fj-c fa-s ml-4\"><a _color=\"#0d47a1\" _css=\"\" _css2=\"\" _css3=\"\" _css4=\"\" _css5=\"\" _css6=\"\" _css7=\"\" class=\"MuiTypography-root Text___StyledTypographyTypeless-bukSfn pzIrn colorized__WrappedComponent-hrwcZr liJcHu MuiTypography-body2\" href=\"/beer/district-chophouse-american-dream-ale/37808/\"><div _css=\"line-height: 20px;\" _css2=\"\" _css3=\"\" _css4=\"\" _css5=\"\" _css6=\"\" _css7=\"\" class=\"MuiTypography-root Text___StyledTypographyTypeless-bukSfn cHtpjM text-500 colorized__WrappedComponent-hrwcZr hwjOn BeerAliasRow___StyledText-gtickt erCMPj MuiTypography-subtitle2\">District ChopHouse American Dream Ale</div></a><div _color=\"#9E9E9E\" _css=\"\" _css2=\"line-height: 16px;\" _css3=\"\" _css4=\"\" _css5=\"\" _css6=\"\" _css7=\"\" class=\"MuiTypography-root Text___StyledTypographyTypeless-bukSfn kbrPIo colorized__WrappedComponent-hrwcZr iMtnoj BeerAliasRow___StyledText2-iOsnnp dbCham MuiTypography-caption\">Also known as <a _color=\"#0d47a1\" _css=\"\" _css2=\"line-height: 16px;\" _css3=\"\" _css4=\"\" _css5=\"\" _css6=\"\" _css7=\"\" class=\"MuiTypography-root Text___StyledTypographyTypeless-bukSfn kbrPIo colorized__WrappedComponent-hrwcZr liJcHu BeerAliasRow___StyledLink-fKseYd eaUJMO MuiTypography-caption\" href=\"/beer/rock-bottom-american-dream-ipa/36621/\">Rock Bottom American Dream IPA</a></div></div></div></div></td><td class=\"MuiTableCell-root MuiTableCell-body MuiTableCell-sizeSmall\"></td><td class=\"MuiTableCell-root MuiTableCell-body MuiTableCell-sizeSmall\"></td><td class=\"MuiTableCell-root MuiTableCell-body MuiTableCell-sizeSmall\"></td><td class=\"MuiTableCell-root MuiTableCell-body MuiTableCell-sizeSmall\"></td><td class=\"MuiTableCell-root MuiTableCell-body MuiTableCell-sizeSmall\"></td><td class=\"MuiTableCell-root MuiTableCell-body MuiTableCell-sizeSmall\"></td><td class=\"MuiTableCell-root MuiTableCell-body MuiTableCell-sizeSmall\"></td></tr><div class=\"lazyload-placeholder\" style=\"height: 40px;\"></div><div class=\"lazyload-placeholder\" style=\"height: 40px;\"></div><div class=\"lazyload-placeholder\" style=\"height: 40px;\"></div><div class=\"lazyload-placeholder\" style=\"height: 40px;\"></div><div class=\"lazyload-placeholder\" style=\"height: 40px;\"></div><div class=\"lazyload-placeholder\" style=\"height: 40px;\"></div><div class=\"lazyload-placeholder\" style=\"height: 40px;\"></div><div class=\"lazyload-placeholder\" style=\"height: 40px;\"></div><div class=\"lazyload-placeholder\" style=\"height: 40px;\"></div><div class=\"lazyload-placeholder\" style=\"height: 40px;\"></div><div class=\"lazyload-placeholder\" style=\"height: 40px;\"></div><div class=\"lazyload-placeholder\" style=\"height: 40px;\"></div><div class=\"lazyload-placeholder\" style=\"height: 40px;\"></div><div class=\"lazyload-placeholder\" style=\"height: 40px;\"></div><div class=\"lazyload-placeholder\" style=\"height: 40px;\"></div><div class=\"lazyload-placeholder\" style=\"height: 40px;\"></div><div class=\"lazyload-placeholder\" style=\"height: 40px;\"></div><div class=\"lazyload-placeholder\" style=\"height: 40px;\"></div><div class=\"lazyload-placeholder\" style=\"height: 40px;\"></div><div class=\"lazyload-placeholder\" style=\"height: 40px;\"></div><div class=\"lazyload-placeholder\" style=\"height: 40px;\"></div><div class=\"lazyload-placeholder\" style=\"height: 40px;\"></div><div class=\"lazyload-placeholder\" style=\"height: 40px;\"></div><div class=\"lazyload-placeholder\" style=\"height: 40px;\"></div><div class=\"lazyload-placeholder\" style=\"height: 40px;\"></div><div class=\"lazyload-placeholder\" style=\"height: 40px;\"></div><div class=\"lazyload-placeholder\" style=\"height: 40px;\"></div><div class=\"lazyload-placeholder\" style=\"height: 40px;\"></div><div class=\"lazyload-placeholder\" style=\"height: 40px;\"></div><div class=\"lazyload-placeholder\" style=\"height: 40px;\"></div><tr _css=\"#fafafa\" class=\"MuiTableRow-root BeerAliasRow___StyledTableRow-bFzfiW cDluJw\"><td class=\"MuiTableCell-root MuiTableCell-body py-4 MuiTableCell-sizeSmall\"><div class=\"fd-r fa-c\"><div class=\"fg-1 fa-c\"><div class=\"fd-c fj-c fa-s ml-4\"><a _color=\"#0d47a1\" _css=\"\" _css2=\"\" _css3=\"\" _css4=\"\" _css5=\"\" _css6=\"\" _css7=\"\" class=\"MuiTypography-root Text___StyledTypographyTypeless-bukSfn pzIrn colorized__WrappedComponent-hrwcZr liJcHu MuiTypography-body2\" href=\"/beer/district-chophouse-its-a-wonderful-ale/42385/\"><div _css=\"line-height: 20px;\" _css2=\"\" _css3=\"\" _css4=\"\" _css5=\"\" _css6=\"\" _css7=\"\" class=\"MuiTypography-root Text___StyledTypographyTypeless-bukSfn cHtpjM text-500 colorized__WrappedComponent-hrwcZr hwjOn BeerAliasRow___StyledText-gtickt erCMPj MuiTypography-subtitle2\">District ChopHouse Its a Wonderful Ale</div></a><div _color=\"#9E9E9E\" _css=\"\" _css2=\"line-height: 16px;\" _css3=\"\" _css4=\"\" _css5=\"\" _css6=\"\" _css7=\"\" class=\"MuiTypography-root Text___StyledTypographyTypeless-bukSfn kbrPIo colorized__WrappedComponent-hrwcZr iMtnoj BeerAliasRow___StyledText2-iOsnnp dbCham MuiTypography-caption\">Also known as <a _color=\"#0d47a1\" _css=\"\" _css2=\"line-height: 16px;\" _css3=\"\" _css4=\"\" _css5=\"\" _css6=\"\" _css7=\"\" class=\"MuiTypography-root Text___StyledTypographyTypeless-bukSfn kbrPIo colorized__WrappedComponent-hrwcZr liJcHu BeerAliasRow___StyledLink-fKseYd eaUJMO MuiTypography-caption\" href=\"/beer/district-chophouse-elliots-nut-brown/22010/\">District ChopHouse Elliots Nut Brown</a></div></div></div></div></td><td class=\"MuiTableCell-root MuiTableCell-body MuiTableCell-sizeSmall\"></td><td class=\"MuiTableCell-root MuiTableCell-body MuiTableCell-sizeSmall\"></td><td class=\"MuiTableCell-root MuiTableCell-body MuiTableCell-sizeSmall\"></td><td class=\"MuiTableCell-root MuiTableCell-body MuiTableCell-sizeSmall\"></td><td class=\"MuiTableCell-root MuiTableCell-body MuiTableCell-sizeSmall\"></td><td class=\"MuiTableCell-root MuiTableCell-body MuiTableCell-sizeSmall\"></td><td class=\"MuiTableCell-root MuiTableCell-body MuiTableCell-sizeSmall\"></td></tr><div class=\"lazyload-placeholder\" style=\"height: 40px;\"></div><tr _css=\"#fafafa\" class=\"MuiTableRow-root BeerAliasRow___StyledTableRow-bFzfiW cDluJw\"><td class=\"MuiTableCell-root MuiTableCell-body py-4 MuiTableCell-sizeSmall\"><div class=\"fd-r fa-c\"><div class=\"fg-1 fa-c\"><div class=\"fd-c fj-c fa-s ml-4\"><a _color=\"#0d47a1\" _css=\"\" _css2=\"\" _css3=\"\" _css4=\"\" _css5=\"\" _css6=\"\" _css7=\"\" class=\"MuiTypography-root Text___StyledTypographyTypeless-bukSfn pzIrn colorized__WrappedComponent-hrwcZr liJcHu MuiTypography-body2\" href=\"/beer/district-chophouse-never-better-than-lator/27170/\"><div _css=\"line-height: 20px;\" _css2=\"\" _css3=\"\" _css4=\"\" _css5=\"\" _css6=\"\" _css7=\"\" class=\"MuiTypography-root Text___StyledTypographyTypeless-bukSfn cHtpjM text-500 colorized__WrappedComponent-hrwcZr hwjOn BeerAliasRow___StyledText-gtickt erCMPj MuiTypography-subtitle2\">District ChopHouse Never Better Than Lator</div></a><div _color=\"#9E9E9E\" _css=\"\" _css2=\"line-height: 16px;\" _css3=\"\" _css4=\"\" _css5=\"\" _css6=\"\" _css7=\"\" class=\"MuiTypography-root Text___StyledTypographyTypeless-bukSfn kbrPIo colorized__WrappedComponent-hrwcZr iMtnoj BeerAliasRow___StyledText2-iOsnnp dbCham MuiTypography-caption\">Also known as <a _color=\"#0d47a1\" _css=\"\" _css2=\"line-height: 16px;\" _css3=\"\" _css4=\"\" _css5=\"\" _css6=\"\" _css7=\"\" class=\"MuiTypography-root Text___StyledTypographyTypeless-bukSfn kbrPIo colorized__WrappedComponent-hrwcZr liJcHu BeerAliasRow___StyledLink-fKseYd eaUJMO MuiTypography-caption\" href=\"/beer/district-chophouse-the-senator-doppelbock/27553/\">District ChopHouse The Senator Doppelbock</a></div></div></div></div></td><td class=\"MuiTableCell-root MuiTableCell-body MuiTableCell-sizeSmall\"></td><td class=\"MuiTableCell-root MuiTableCell-body MuiTableCell-sizeSmall\"></td><td class=\"MuiTableCell-root MuiTableCell-body MuiTableCell-sizeSmall\"></td><td class=\"MuiTableCell-root MuiTableCell-body MuiTableCell-sizeSmall\"></td><td class=\"MuiTableCell-root MuiTableCell-body MuiTableCell-sizeSmall\"></td><td class=\"MuiTableCell-root MuiTableCell-body MuiTableCell-sizeSmall\"></td><td class=\"MuiTableCell-root MuiTableCell-body MuiTableCell-sizeSmall\"></td></tr><div class=\"lazyload-placeholder\" style=\"height: 40px;\"></div><div class=\"lazyload-placeholder\" style=\"height: 40px;\"></div><div class=\"lazyload-placeholder\" style=\"height: 40px;\"></div><div class=\"lazyload-placeholder\" style=\"height: 40px;\"></div><div class=\"lazyload-placeholder\" style=\"height: 40px;\"></div><div class=\"lazyload-placeholder\" style=\"height: 40px;\"></div><div class=\"lazyload-placeholder\" style=\"height: 40px;\"></div><div class=\"lazyload-placeholder\" style=\"height: 40px;\"></div><div class=\"lazyload-placeholder\" style=\"height: 40px;\"></div><div class=\"lazyload-placeholder\" style=\"height: 40px;\"></div><div class=\"lazyload-placeholder\" style=\"height: 40px;\"></div><div class=\"lazyload-placeholder\" style=\"height: 40px;\"></div><div class=\"lazyload-placeholder\" style=\"height: 40px;\"></div><div class=\"lazyload-placeholder\" style=\"height: 40px;\"></div><div class=\"lazyload-placeholder\" style=\"height: 40px;\"></div><tr _css=\"#fafafa\" class=\"MuiTableRow-root BeerAliasRow___StyledTableRow-bFzfiW cDluJw\"><td class=\"MuiTableCell-root MuiTableCell-body py-4 MuiTableCell-sizeSmall\"><div class=\"fd-r fa-c\"><div class=\"fg-1 fa-c\"><div class=\"fd-c fj-c fa-s ml-4\"><a _color=\"#0d47a1\" _css=\"\" _css2=\"\" _css3=\"\" _css4=\"\" _css5=\"\" _css6=\"\" _css7=\"\" class=\"MuiTypography-root Text___StyledTypographyTypeless-bukSfn pzIrn colorized__WrappedComponent-hrwcZr liJcHu MuiTypography-body2\" href=\"/beer/district-chophouse-velvet-amber/315115/\"><div _css=\"line-height: 20px;\" _css2=\"\" _css3=\"\" _css4=\"\" _css5=\"\" _css6=\"\" _css7=\"\" class=\"MuiTypography-root Text___StyledTypographyTypeless-bukSfn cHtpjM text-500 colorized__WrappedComponent-hrwcZr hwjOn BeerAliasRow___StyledText-gtickt erCMPj MuiTypography-subtitle2\">District ChopHouse Velvet Amber</div></a><div _color=\"#9E9E9E\" _css=\"\" _css2=\"line-height: 16px;\" _css3=\"\" _css4=\"\" _css5=\"\" _css6=\"\" _css7=\"\" class=\"MuiTypography-root Text___StyledTypographyTypeless-bukSfn kbrPIo colorized__WrappedComponent-hrwcZr iMtnoj BeerAliasRow___StyledText2-iOsnnp dbCham MuiTypography-caption\">Also known as <a _color=\"#0d47a1\" _css=\"\" _css2=\"line-height: 16px;\" _css3=\"\" _css4=\"\" _css5=\"\" _css6=\"\" _css7=\"\" class=\"MuiTypography-root Text___StyledTypographyTypeless-bukSfn kbrPIo colorized__WrappedComponent-hrwcZr liJcHu BeerAliasRow___StyledLink-fKseYd eaUJMO MuiTypography-caption\" href=\"/beer/district-chophouse-amber-ale/22011/\">District ChopHouse Amber Ale</a></div></div></div></div></td><td class=\"MuiTableCell-root MuiTableCell-body MuiTableCell-sizeSmall\"></td><td class=\"MuiTableCell-root MuiTableCell-body MuiTableCell-sizeSmall\"></td><td class=\"MuiTableCell-root MuiTableCell-body MuiTableCell-sizeSmall\"></td><td class=\"MuiTableCell-root MuiTableCell-body MuiTableCell-sizeSmall\"></td><td class=\"MuiTableCell-root MuiTableCell-body MuiTableCell-sizeSmall\"></td><td class=\"MuiTableCell-root MuiTableCell-body MuiTableCell-sizeSmall\"></td><td class=\"MuiTableCell-root MuiTableCell-body MuiTableCell-sizeSmall\"></td></tr><div class=\"lazyload-placeholder\" style=\"height: 40px;\"></div><div class=\"lazyload-placeholder\" style=\"height: 40px;\"></div><div class=\"lazyload-placeholder\" style=\"height: 40px;\"></div><div class=\"lazyload-placeholder\" style=\"height: 40px;\"></div><div class=\"lazyload-placeholder\" style=\"height: 40px;\"></div></tbody>]\n"
     ]
    }
   ],
   "source": [
    "for i in soup.find_all('div', {'class' : 'MuiPaper-root MuiPaper-elevation1 mt-5 MuiPaper-rounded'}):\n",
    "    for j in i.find_all('table'):\n",
    "        print(j.find_all('tbody'))"
   ]
  },
  {
   "cell_type": "code",
   "execution_count": 39,
   "metadata": {},
   "outputs": [
    {
     "name": "stdout",
     "output_type": "stream",
     "text": [
      "None\n",
      "None\n",
      "None\n",
      "None\n"
     ]
    },
    {
     "ename": "KeyboardInterrupt",
     "evalue": "",
     "output_type": "error",
     "traceback": [
      "\u001b[1;31m---------------------------------------------------------------------------\u001b[0m",
      "\u001b[1;31mKeyboardInterrupt\u001b[0m                         Traceback (most recent call last)",
      "\u001b[1;32m<ipython-input-39-6f74553fecd7>\u001b[0m in \u001b[0;36m<module>\u001b[1;34m\u001b[0m\n\u001b[0;32m      1\u001b[0m \u001b[1;32mfor\u001b[0m \u001b[0mbrewery\u001b[0m \u001b[1;32min\u001b[0m \u001b[0mregion_brews\u001b[0m\u001b[1;33m:\u001b[0m\u001b[1;33m\u001b[0m\u001b[1;33m\u001b[0m\u001b[0m\n\u001b[0;32m      2\u001b[0m     \u001b[0mdriver\u001b[0m\u001b[1;33m.\u001b[0m\u001b[0mget\u001b[0m\u001b[1;33m(\u001b[0m\u001b[0mbrewery\u001b[0m\u001b[1;33m[\u001b[0m\u001b[1;34m'link'\u001b[0m\u001b[1;33m]\u001b[0m\u001b[1;33m)\u001b[0m\u001b[1;33m\u001b[0m\u001b[1;33m\u001b[0m\u001b[0m\n\u001b[1;32m----> 3\u001b[1;33m     \u001b[0msleep\u001b[0m\u001b[1;33m(\u001b[0m\u001b[1;36m10\u001b[0m\u001b[1;33m)\u001b[0m\u001b[1;33m\u001b[0m\u001b[1;33m\u001b[0m\u001b[0m\n\u001b[0m\u001b[0;32m      4\u001b[0m     \u001b[0mhtml\u001b[0m \u001b[1;33m=\u001b[0m \u001b[0mdriver\u001b[0m\u001b[1;33m.\u001b[0m\u001b[0mpage_source\u001b[0m\u001b[1;33m\u001b[0m\u001b[1;33m\u001b[0m\u001b[0m\n\u001b[0;32m      5\u001b[0m     \u001b[0msoup\u001b[0m \u001b[1;33m=\u001b[0m \u001b[0mBeautifulSoup\u001b[0m\u001b[1;33m(\u001b[0m\u001b[0mhtml\u001b[0m\u001b[1;33m,\u001b[0m \u001b[1;34m'lxml'\u001b[0m\u001b[1;33m)\u001b[0m\u001b[1;33m\u001b[0m\u001b[1;33m\u001b[0m\u001b[0m\n",
      "\u001b[1;31mKeyboardInterrupt\u001b[0m: "
     ]
    }
   ],
   "source": [
    "for brewery in region_brews:\n",
    "    driver.get(brewery['link'])\n",
    "    sleep(10)\n",
    "    html = driver.page_source\n",
    "    soup = BeautifulSoup(html, 'lxml')\n",
    "#     try:\n",
    "#         brewery['google_map_link'] = soup.find('a',{'title':'View beermap'})['href'][2:]\n",
    "#     except:\n",
    "#         brewery['google_map_link'] = None\n",
    "    try:\n",
    "        print(soup.find('table',{'id':'brewer-beer-table'}))\n",
    "    except:\n",
    "        continue"
   ]
  },
  {
   "cell_type": "code",
   "execution_count": 36,
   "metadata": {},
   "outputs": [
    {
     "data": {
      "text/plain": [
       "{'name': ' DC Brau Brewing Company',\n",
       " 'link': 'http://www.ratebeer.com/brewers/dc-brau-brewing-company/12763/',\n",
       " 'google_map_link': None}"
      ]
     },
     "execution_count": 36,
     "metadata": {},
     "output_type": "execute_result"
    }
   ],
   "source": [
    "brewery"
   ]
  },
  {
   "cell_type": "code",
   "execution_count": 37,
   "metadata": {},
   "outputs": [],
   "source": [
    "table = soup.find('table',{'id':'brewer-beer-table'})"
   ]
  },
  {
   "cell_type": "code",
   "execution_count": 38,
   "metadata": {},
   "outputs": [],
   "source": [
    "table"
   ]
  },
  {
   "cell_type": "code",
   "execution_count": null,
   "metadata": {},
   "outputs": [],
   "source": []
  }
 ],
 "metadata": {
  "kernelspec": {
   "display_name": "Python 3",
   "language": "python",
   "name": "python3"
  },
  "language_info": {
   "codemirror_mode": {
    "name": "ipython",
    "version": 3
   },
   "file_extension": ".py",
   "mimetype": "text/x-python",
   "name": "python",
   "nbconvert_exporter": "python",
   "pygments_lexer": "ipython3",
   "version": "3.7.3"
  }
 },
 "nbformat": 4,
 "nbformat_minor": 2
}
