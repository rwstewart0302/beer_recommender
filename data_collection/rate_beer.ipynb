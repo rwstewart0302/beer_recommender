{
 "cells": [
  {
   "cell_type": "markdown",
   "metadata": {},
   "source": [
    "# Rate Beer"
   ]
  },
  {
   "cell_type": "code",
   "execution_count": 132,
   "metadata": {},
   "outputs": [],
   "source": [
    "import pandas as pd\n",
    "import numpy as np\n",
    "import requests\n",
    "from bs4 import BeautifulSoup\n",
    "import time\n",
    "from selenium import webdriver"
   ]
  },
  {
   "cell_type": "code",
   "execution_count": 133,
   "metadata": {},
   "outputs": [],
   "source": [
    "# scraping for dc breweries\n",
    "url = 'https://www.ratebeer.com/breweries/washington-dc/48/213/'\n",
    "response = requests.get(url)\n",
    "html = response.text\n",
    "soup = BeautifulSoup(html, 'lxml')"
   ]
  },
  {
   "cell_type": "code",
   "execution_count": 134,
   "metadata": {},
   "outputs": [],
   "source": [
    "dc_breweries_url = []\n",
    "dc_breweries_long = []\n",
    "dc_breweries = []\n",
    "for i in soup.find_all('div', {'class' : 'tab-pane active searchable'}):\n",
    "    for j in i.find_all('table', {'id' : 'brewerTable'}):\n",
    "        for k in j.find_all('td'):\n",
    "            try:\n",
    "                dc_breweries_url.append((k.find('a')['href']))\n",
    "                dc_breweries_long.append(k.find('a').text)\n",
    "            except:\n",
    "                pass\n",
    "for i in dc_breweries_long:\n",
    "    dc_breweries.append(i.strip())"
   ]
  },
  {
   "cell_type": "code",
   "execution_count": 135,
   "metadata": {},
   "outputs": [
    {
     "data": {
      "text/plain": [
       "['3 Stars Brewing Company',\n",
       " 'Atlas Brew Works',\n",
       " 'Bardo Brewing',\n",
       " 'Bluejacket',\n",
       " 'ChopHouse & Brewery D.C. (Craftworks)',\n",
       " 'DC Brau Brewing Company',\n",
       " 'Georgetown Trading Company',\n",
       " 'Hellbender Brewing Company',\n",
       " 'Red Bear Brewing Company',\n",
       " 'Right Proper Brewing Company',\n",
       " 'Sankofa Beer Company',\n",
       " 'The Public Option',\n",
       " 'The Pug',\n",
       " 'Valor Brewpub']"
      ]
     },
     "execution_count": 135,
     "metadata": {},
     "output_type": "execute_result"
    }
   ],
   "source": [
    "dc_breweries"
   ]
  },
  {
   "cell_type": "code",
   "execution_count": 136,
   "metadata": {},
   "outputs": [
    {
     "data": {
      "text/plain": [
       "['/brewers/3-stars-brewing-company/12922/',\n",
       " '/brewers/atlas-brew-works/17538/',\n",
       " '/brewers/bardo-brewing/20570/',\n",
       " '/brewers/bluejacket/14953/',\n",
       " '/brewers/chophouse-brewery-dc-craftworks/3527/',\n",
       " '/brewers/dc-brau-brewing-company/12763/',\n",
       " '/brewers/georgetown-trading-company/21759/',\n",
       " '/brewers/hellbender-brewing-company/21296/',\n",
       " '/brewers/red-bear-brewing-company/39711/',\n",
       " '/brewers/right-proper-brewing-company/18273/',\n",
       " '/brewers/sankofa-beer-company/40119/',\n",
       " '/brewers/the-public-option/24838/',\n",
       " '/brewers/the-pug/14199/',\n",
       " '/brewers/valor-brewpub/38611/']"
      ]
     },
     "execution_count": 136,
     "metadata": {},
     "output_type": "execute_result"
    }
   ],
   "source": [
    "dc_breweries_url"
   ]
  },
  {
   "cell_type": "code",
   "execution_count": 213,
   "metadata": {},
   "outputs": [],
   "source": [
    "from urllib.request import urlopen as uReq\n"
   ]
  },
  {
   "cell_type": "code",
   "execution_count": 219,
   "metadata": {},
   "outputs": [],
   "source": [
    "driver = webdriver.Chrome(executable_path='chromedriver')"
   ]
  },
  {
   "cell_type": "code",
   "execution_count": 238,
   "metadata": {},
   "outputs": [],
   "source": [
    "html = driver.page_source"
   ]
  },
  {
   "cell_type": "code",
   "execution_count": 243,
   "metadata": {},
   "outputs": [],
   "source": [
    "url = 'https://www.ratebeer.com'+ '/brewers/3-stars-brewing-company/12922/'\n",
    "response = driver.get(url)\n",
    "# html = response.text\n",
    "\n",
    "soup = BeautifulSoup(html, 'lxml')"
   ]
  },
  {
   "cell_type": "code",
   "execution_count": 251,
   "metadata": {},
   "outputs": [
    {
     "data": {
      "text/plain": [
       "[]"
      ]
     },
     "execution_count": 251,
     "metadata": {},
     "output_type": "execute_result"
    }
   ],
   "source": [
    "soup.find_all('table',{'id':'brewerTable'})"
   ]
  },
  {
   "cell_type": "code",
   "execution_count": 246,
   "metadata": {},
   "outputs": [],
   "source": [
    "table"
   ]
  },
  {
   "cell_type": "code",
   "execution_count": 224,
   "metadata": {},
   "outputs": [],
   "source": [
    "for i in soup.find_all('ul', {'class' :'MobileBrewerBeerList___StyledUl-eOuyrA dZWvjH ml-0 pl-0'}):\n",
    "    for j in i.find_all('div', {'class' : 'fd-r'}):\n",
    "        print(j.text)"
   ]
  },
  {
   "cell_type": "code",
   "execution_count": 225,
   "metadata": {},
   "outputs": [
    {
     "data": {
      "text/plain": [
       "<html xmlns=\"http://www.w3.org/1999/xhtml\"><head></head><body></body></html>"
      ]
     },
     "execution_count": 225,
     "metadata": {},
     "output_type": "execute_result"
    }
   ],
   "source": [
    "soup"
   ]
  },
  {
   "cell_type": "code",
   "execution_count": 154,
   "metadata": {},
   "outputs": [],
   "source": [
    "for i in soup.find_all('ul', {'class' :'MobileBrewerBeerList___StyledUl-eOuyrA dZWvjH ml-0 pl-0'}):\n",
    "    i.find_all('div', {="
   ]
  },
  {
   "cell_type": "code",
   "execution_count": 161,
   "metadata": {},
   "outputs": [],
   "source": [
    "for i in soup.find('div', {'class' : 'jss56 jss60 jss57 fa-c fd-c fj-c mt-5 pt-5'}):\n",
    "    i.find_all('div', {'class' : 'fd-r'})"
   ]
  },
  {
   "cell_type": "code",
   "execution_count": 76,
   "metadata": {},
   "outputs": [],
   "source": [
    "for slug in dc_breweries_url:\n",
    "    url = 'https://www.ratebeer.com/' + slug\n",
    "    response = requests.get(url)\n",
    "    html = response.text\n",
    "    soup = BeautifulSoup(html, 'lxml')\n",
    "    "
   ]
  },
  {
   "cell_type": "code",
   "execution_count": 96,
   "metadata": {},
   "outputs": [
    {
     "data": {
      "text/plain": [
       "[]"
      ]
     },
     "execution_count": 96,
     "metadata": {},
     "output_type": "execute_result"
    }
   ],
   "source": [
    "soup.find_all('div', {'id' : 'optanon'})"
   ]
  },
  {
   "cell_type": "code",
   "execution_count": null,
   "metadata": {},
   "outputs": [],
   "source": [
    "from selenium import webdriver\n",
    "from time import sleep\n",
    "from bs4 import BeautifulSoup\n",
    "import pandas as pd"
   ]
  },
  {
   "cell_type": "code",
   "execution_count": null,
   "metadata": {},
   "outputs": [],
   "source": [
    "driver.get('https://www.ratebeer.com/breweries/washington-dc/48/213/')\n",
    "\n",
    "sleep(5)\n",
    "html = driver.page_source\n",
    "soup = BeautifulSoup(html, 'lxml')\n",
    "\n",
    "table = soup.find('table',{'id':'brewerTable'})"
   ]
  },
  {
   "cell_type": "code",
   "execution_count": null,
   "metadata": {},
   "outputs": [],
   "source": []
  }
 ],
 "metadata": {
  "kernelspec": {
   "display_name": "Python 3",
   "language": "python",
   "name": "python3"
  },
  "language_info": {
   "codemirror_mode": {
    "name": "ipython",
    "version": 3
   },
   "file_extension": ".py",
   "mimetype": "text/x-python",
   "name": "python",
   "nbconvert_exporter": "python",
   "pygments_lexer": "ipython3",
   "version": "3.7.3"
  }
 },
 "nbformat": 4,
 "nbformat_minor": 2
}
