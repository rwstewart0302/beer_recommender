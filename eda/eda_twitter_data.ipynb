{
 "cells": [
  {
   "cell_type": "markdown",
   "metadata": {},
   "source": [
    "## EDA for Twitter Data"
   ]
  },
  {
   "cell_type": "code",
   "execution_count": 15,
   "metadata": {},
   "outputs": [
    {
     "data": {
      "text/html": [
       "<div>\n",
       "<style scoped>\n",
       "    .dataframe tbody tr th:only-of-type {\n",
       "        vertical-align: middle;\n",
       "    }\n",
       "\n",
       "    .dataframe tbody tr th {\n",
       "        vertical-align: top;\n",
       "    }\n",
       "\n",
       "    .dataframe thead th {\n",
       "        text-align: right;\n",
       "    }\n",
       "</style>\n",
       "<table border=\"1\" class=\"dataframe\">\n",
       "  <thead>\n",
       "    <tr style=\"text-align: right;\">\n",
       "      <th></th>\n",
       "      <th>tweet</th>\n",
       "      <th>user</th>\n",
       "      <th>date</th>\n",
       "    </tr>\n",
       "  </thead>\n",
       "  <tbody>\n",
       "    <tr>\n",
       "      <td>0</td>\n",
       "      <td>So my parents are going out of town for the we...</td>\n",
       "      <td>thisfishflies</td>\n",
       "      <td>2019-11-07 03:09:43</td>\n",
       "    </tr>\n",
       "    <tr>\n",
       "      <td>1</td>\n",
       "      <td>ACE Hardware for Sale over 700k adjusted EBITD...</td>\n",
       "      <td>atlbizbroker</td>\n",
       "      <td>2019-11-07 01:59:14</td>\n",
       "    </tr>\n",
       "    <tr>\n",
       "      <td>2</td>\n",
       "      <td>Industry News (1pm daily)\\n#beer #craftbeer\\n\\...</td>\n",
       "      <td>BeerConnoisseur</td>\n",
       "      <td>2019-11-06 18:01:27</td>\n",
       "    </tr>\n",
       "    <tr>\n",
       "      <td>3</td>\n",
       "      <td>This is Crossroads from @BlackAbbeyBrew. It’s ...</td>\n",
       "      <td>thatsagreatbeer</td>\n",
       "      <td>2019-11-06 17:12:55</td>\n",
       "    </tr>\n",
       "    <tr>\n",
       "      <td>4</td>\n",
       "      <td>RT @BeerConnoisseur: Industry Announcement\\n#b...</td>\n",
       "      <td>btbrewery</td>\n",
       "      <td>2019-11-06 10:27:12</td>\n",
       "    </tr>\n",
       "  </tbody>\n",
       "</table>\n",
       "</div>"
      ],
      "text/plain": [
       "                                               tweet             user  \\\n",
       "0  So my parents are going out of town for the we...    thisfishflies   \n",
       "1  ACE Hardware for Sale over 700k adjusted EBITD...     atlbizbroker   \n",
       "2  Industry News (1pm daily)\\n#beer #craftbeer\\n\\...  BeerConnoisseur   \n",
       "3  This is Crossroads from @BlackAbbeyBrew. It’s ...  thatsagreatbeer   \n",
       "4  RT @BeerConnoisseur: Industry Announcement\\n#b...        btbrewery   \n",
       "\n",
       "                  date  \n",
       "0  2019-11-07 03:09:43  \n",
       "1  2019-11-07 01:59:14  \n",
       "2  2019-11-06 18:01:27  \n",
       "3  2019-11-06 17:12:55  \n",
       "4  2019-11-06 10:27:12  "
      ]
     },
     "execution_count": 15,
     "metadata": {},
     "output_type": "execute_result"
    }
   ],
   "source": [
    "# reading in one twitter dataset to see what it looks like\n",
    "df = pd.read_csv('../data/General_Assembly_Atlanta_beer_tweets_10_km.csv')\n",
    "df.head()"
   ]
  },
  {
   "cell_type": "code",
   "execution_count": 16,
   "metadata": {},
   "outputs": [
    {
     "name": "stdout",
     "output_type": "stream",
     "text": [
      "@atwaterbeer\n",
      "@DetroitPistons\n",
      "@BlackAbbeyBrew.\n",
      "@BeerConnoisseur:\n",
      "@btbrewery\n",
      "@artdecoarch:\n",
      "@BeerConnoisseur:\n",
      "@btbrewery\n",
      "@go_ekos\n",
      "@btbrewery\n",
      "@sweetwaterbrew:\n",
      "@BeerConnoisseur:\n",
      "@OdellBrewing\n",
      "@11AliveNews:\n",
      "@OdellBrewing\n",
      "@christinahill__:\n",
      "@atlantahumane\n",
      "@christinahill__:\n",
      "@atlantahumane\n",
      "@christinahill__:\n",
      "@atlantahumane\n",
      "@atlantahumane\n",
      "@trisetella\n",
      "@BHB_brews,\n",
      "@\n",
      "@tonitwopint\n",
      "@excitedtofeast\n",
      "@LLamorandier\n",
      "@hopduel\n",
      "@CraftBeerBrew\n",
      "@KCBierCo\n",
      "@BeerConnoisseur:\n",
      "@BackEastBrewery\n",
      "@BeerConnoisseur:\n",
      "@BackEastBrewery\n",
      "@LessIsMor3:\n",
      "@BeerConnoisseur:\n",
      "@BackEastBrewery\n",
      "@BackEastBrewery\n",
      "@michael_pavitt\n",
      "@go_ekos\n",
      "@ATLBlackStar:\n",
      "@ATLBlackStar:\n",
      "@\n",
      "@GTH\n",
      "@Cliftoncp\n",
      "@arevxo_\n",
      "@CesarPicco\n",
      "@BeerConnoisseur:\n",
      "@AveryBrewingCo\n",
      "@AveryBrewingCo\n",
      "@sffATL\n",
      "@sweetwaterbrew:\n",
      "@sweetwaterbrew:\n",
      "@sweetwaterbrew:\n",
      "@sweetwaterbrew:\n",
      "@BeerConnoisseur:\n",
      "@RogueAles\n",
      "@alexandrochelle\n",
      "@\n",
      "@sffATL\n",
      "@RogueAles\n",
      "@cesttoutbon2eat:\n",
      "@\n",
      "@sffATL\n",
      "@\n",
      "@sffATL\n",
      "@RoderickAustin\n",
      "@\n",
      "@sffATL\n",
      "@MrMufakka\n",
      "@UnkleSilk\n",
      "@go_ekos\n",
      "@AUKenDog:\n",
      "@TokarsJi:\n",
      "@Hopstix\n"
     ]
    }
   ],
   "source": [
    "for tweet in df['tweet']:\n",
    "    for word in tweet.split():\n",
    "        if '@' in word:\n",
    "            print(word)"
   ]
  },
  {
   "cell_type": "markdown",
   "metadata": {},
   "source": [
    "I think I will be able to use the @ tag to locate popular breweries in the area..."
   ]
  },
  {
   "cell_type": "code",
   "execution_count": null,
   "metadata": {},
   "outputs": [],
   "source": []
  }
 ],
 "metadata": {
  "kernelspec": {
   "display_name": "Python 3",
   "language": "python",
   "name": "python3"
  },
  "language_info": {
   "codemirror_mode": {
    "name": "ipython",
    "version": 3
   },
   "file_extension": ".py",
   "mimetype": "text/x-python",
   "name": "python",
   "nbconvert_exporter": "python",
   "pygments_lexer": "ipython3",
   "version": "3.7.3"
  }
 },
 "nbformat": 4,
 "nbformat_minor": 4
}
