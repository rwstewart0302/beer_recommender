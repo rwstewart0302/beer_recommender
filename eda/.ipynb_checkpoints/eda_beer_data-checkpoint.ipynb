{
 "cells": [
  {
   "cell_type": "markdown",
   "metadata": {},
   "source": [
    "# EDA on Beer Data"
   ]
  },
  {
   "cell_type": "code",
   "execution_count": 1,
   "metadata": {},
   "outputs": [],
   "source": [
    "import pandas as pd\n",
    "import numpy as np\n",
    "import sys\n",
    "from scipy import sparse\n",
    "from sklearn.metrics.pairwise import pairwise_distances\n",
    "import matplotlib.pyplot as plt\n",
    "from tqdm import tqdm"
   ]
  },
  {
   "cell_type": "code",
   "execution_count": 2,
   "metadata": {},
   "outputs": [
    {
     "data": {
      "text/html": [
       "<div>\n",
       "<style scoped>\n",
       "    .dataframe tbody tr th:only-of-type {\n",
       "        vertical-align: middle;\n",
       "    }\n",
       "\n",
       "    .dataframe tbody tr th {\n",
       "        vertical-align: top;\n",
       "    }\n",
       "\n",
       "    .dataframe thead th {\n",
       "        text-align: right;\n",
       "    }\n",
       "</style>\n",
       "<table border=\"1\" class=\"dataframe\">\n",
       "  <thead>\n",
       "    <tr style=\"text-align: right;\">\n",
       "      <th></th>\n",
       "      <th>brewery_id</th>\n",
       "      <th>brewery_name</th>\n",
       "      <th>review_time</th>\n",
       "      <th>review_overall</th>\n",
       "      <th>review_aroma</th>\n",
       "      <th>review_appearance</th>\n",
       "      <th>review_profilename</th>\n",
       "      <th>beer_style</th>\n",
       "      <th>review_palate</th>\n",
       "      <th>review_taste</th>\n",
       "      <th>beer_name</th>\n",
       "      <th>beer_abv</th>\n",
       "      <th>beer_beerid</th>\n",
       "    </tr>\n",
       "  </thead>\n",
       "  <tbody>\n",
       "    <tr>\n",
       "      <th>0</th>\n",
       "      <td>10325</td>\n",
       "      <td>Vecchio Birraio</td>\n",
       "      <td>1234817823</td>\n",
       "      <td>1.5</td>\n",
       "      <td>2.0</td>\n",
       "      <td>2.5</td>\n",
       "      <td>stcules</td>\n",
       "      <td>Hefeweizen</td>\n",
       "      <td>1.5</td>\n",
       "      <td>1.5</td>\n",
       "      <td>Sausa Weizen</td>\n",
       "      <td>5.0</td>\n",
       "      <td>47986</td>\n",
       "    </tr>\n",
       "    <tr>\n",
       "      <th>1</th>\n",
       "      <td>10325</td>\n",
       "      <td>Vecchio Birraio</td>\n",
       "      <td>1235915097</td>\n",
       "      <td>3.0</td>\n",
       "      <td>2.5</td>\n",
       "      <td>3.0</td>\n",
       "      <td>stcules</td>\n",
       "      <td>English Strong Ale</td>\n",
       "      <td>3.0</td>\n",
       "      <td>3.0</td>\n",
       "      <td>Red Moon</td>\n",
       "      <td>6.2</td>\n",
       "      <td>48213</td>\n",
       "    </tr>\n",
       "    <tr>\n",
       "      <th>2</th>\n",
       "      <td>10325</td>\n",
       "      <td>Vecchio Birraio</td>\n",
       "      <td>1235916604</td>\n",
       "      <td>3.0</td>\n",
       "      <td>2.5</td>\n",
       "      <td>3.0</td>\n",
       "      <td>stcules</td>\n",
       "      <td>Foreign / Export Stout</td>\n",
       "      <td>3.0</td>\n",
       "      <td>3.0</td>\n",
       "      <td>Black Horse Black Beer</td>\n",
       "      <td>6.5</td>\n",
       "      <td>48215</td>\n",
       "    </tr>\n",
       "    <tr>\n",
       "      <th>3</th>\n",
       "      <td>10325</td>\n",
       "      <td>Vecchio Birraio</td>\n",
       "      <td>1234725145</td>\n",
       "      <td>3.0</td>\n",
       "      <td>3.0</td>\n",
       "      <td>3.5</td>\n",
       "      <td>stcules</td>\n",
       "      <td>German Pilsener</td>\n",
       "      <td>2.5</td>\n",
       "      <td>3.0</td>\n",
       "      <td>Sausa Pils</td>\n",
       "      <td>5.0</td>\n",
       "      <td>47969</td>\n",
       "    </tr>\n",
       "    <tr>\n",
       "      <th>4</th>\n",
       "      <td>1075</td>\n",
       "      <td>Caldera Brewing Company</td>\n",
       "      <td>1293735206</td>\n",
       "      <td>4.0</td>\n",
       "      <td>4.5</td>\n",
       "      <td>4.0</td>\n",
       "      <td>johnmichaelsen</td>\n",
       "      <td>American Double / Imperial IPA</td>\n",
       "      <td>4.0</td>\n",
       "      <td>4.5</td>\n",
       "      <td>Cauldron DIPA</td>\n",
       "      <td>7.7</td>\n",
       "      <td>64883</td>\n",
       "    </tr>\n",
       "  </tbody>\n",
       "</table>\n",
       "</div>"
      ],
      "text/plain": [
       "   brewery_id             brewery_name  review_time  review_overall  \\\n",
       "0       10325          Vecchio Birraio   1234817823             1.5   \n",
       "1       10325          Vecchio Birraio   1235915097             3.0   \n",
       "2       10325          Vecchio Birraio   1235916604             3.0   \n",
       "3       10325          Vecchio Birraio   1234725145             3.0   \n",
       "4        1075  Caldera Brewing Company   1293735206             4.0   \n",
       "\n",
       "   review_aroma  review_appearance review_profilename  \\\n",
       "0           2.0                2.5            stcules   \n",
       "1           2.5                3.0            stcules   \n",
       "2           2.5                3.0            stcules   \n",
       "3           3.0                3.5            stcules   \n",
       "4           4.5                4.0     johnmichaelsen   \n",
       "\n",
       "                       beer_style  review_palate  review_taste  \\\n",
       "0                      Hefeweizen            1.5           1.5   \n",
       "1              English Strong Ale            3.0           3.0   \n",
       "2          Foreign / Export Stout            3.0           3.0   \n",
       "3                 German Pilsener            2.5           3.0   \n",
       "4  American Double / Imperial IPA            4.0           4.5   \n",
       "\n",
       "                beer_name  beer_abv  beer_beerid  \n",
       "0            Sausa Weizen       5.0        47986  \n",
       "1                Red Moon       6.2        48213  \n",
       "2  Black Horse Black Beer       6.5        48215  \n",
       "3              Sausa Pils       5.0        47969  \n",
       "4           Cauldron DIPA       7.7        64883  "
      ]
     },
     "execution_count": 2,
     "metadata": {},
     "output_type": "execute_result"
    }
   ],
   "source": [
    "# reading in data\n",
    "df = pd.read_csv('../data/beer_reviews_full.csv')\n",
    "df.head()"
   ]
  },
  {
   "cell_type": "code",
   "execution_count": 3,
   "metadata": {},
   "outputs": [],
   "source": [
    "# converting review_times to datetime type\n",
    "df['review_time'] = pd.to_datetime( df['review_time'], unit = 's' )"
   ]
  },
  {
   "cell_type": "code",
   "execution_count": 5,
   "metadata": {},
   "outputs": [
    {
     "data": {
      "image/png": "[encoded data removed]",
      "text/plain": [
       "<Figure size 1440x360 with 1 Axes>"
      ]
     },
     "metadata": {
      "needs_background": "light"
     },
     "output_type": "display_data"
    }
   ],
   "source": [
    "# plotting the number of reviews per day to look for any trends\n",
    "group_by_date = df[ [ 'review_time' ] ].groupby( df[ 'review_time' ].dt.date ).agg( [ 'count' ] )\n",
    "plt.figure( figsize = ( 20, 5 ) )\n",
    "plt.plot( group_by_date )\n",
    "plt.xlabel( 'Date' )\n",
    "plt.ylabel( 'Number of reviews' )\n",
    "plt.title( 'Number of Reviews per Day' );"
   ]
  },
  {
   "cell_type": "code",
   "execution_count": 6,
   "metadata": {},
   "outputs": [],
   "source": [
    "# based on the plot above I am going to drop everything before 2002 because there is almost no data up to this point\n",
    "df = df.loc[ df[ 'review_time' ].dt.year >= 2002 ]"
   ]
  },
  {
   "cell_type": "code",
   "execution_count": 7,
   "metadata": {},
   "outputs": [
    {
     "data": {
      "image/png": "[encoded data removed]",
      "text/plain": [
       "<Figure size 1440x360 with 1 Axes>"
      ]
     },
     "metadata": {
      "needs_background": "light"
     },
     "output_type": "display_data"
    }
   ],
   "source": [
    "# replotting the number of reviews per day after dropping the data before 2002\n",
    "group_by_date = df[ [ 'review_time' ] ].groupby( df[ 'review_time' ].dt.date ).agg( [ 'count' ] )\n",
    "plt.figure( figsize = ( 20, 5 ) )\n",
    "plt.plot( group_by_date )\n",
    "plt.xlabel( 'Date' )\n",
    "plt.ylabel( 'Number of reviews' )\n",
    "plt.title( 'Number of Reviews per Day' );"
   ]
  },
  {
   "cell_type": "code",
   "execution_count": 8,
   "metadata": {},
   "outputs": [
    {
     "name": "stdout",
     "output_type": "stream",
     "text": [
      "<class 'pandas.core.frame.DataFrame'>\n",
      "Int64Index: 1584276 entries, 0 to 1586613\n",
      "Data columns (total 13 columns):\n",
      "brewery_id            1584276 non-null int64\n",
      "brewery_name          1584261 non-null object\n",
      "review_time           1584276 non-null datetime64[ns]\n",
      "review_overall        1584276 non-null float64\n",
      "review_aroma          1584276 non-null float64\n",
      "review_appearance     1584276 non-null float64\n",
      "review_profilename    1583928 non-null object\n",
      "beer_style            1584276 non-null object\n",
      "review_palate         1584276 non-null float64\n",
      "review_taste          1584276 non-null float64\n",
      "beer_name             1584276 non-null object\n",
      "beer_abv              1516852 non-null float64\n",
      "beer_beerid           1584276 non-null int64\n",
      "dtypes: datetime64[ns](1), float64(6), int64(2), object(4)\n",
      "memory usage: 616.6 MB\n"
     ]
    }
   ],
   "source": [
    "# checking the info and amount of memory the data set requires\n",
    "df.info(memory_usage='deep')"
   ]
  },
  {
   "cell_type": "code",
   "execution_count": 9,
   "metadata": {},
   "outputs": [
    {
     "data": {
      "text/plain": [
       "(1584276, 13)"
      ]
     },
     "execution_count": 9,
     "metadata": {},
     "output_type": "execute_result"
    }
   ],
   "source": [
    "# dataset shape\n",
    "df.shape"
   ]
  },
  {
   "cell_type": "code",
   "execution_count": 12,
   "metadata": {},
   "outputs": [
    {
     "data": {
      "text/plain": [
       "18850"
      ]
     },
     "execution_count": 12,
     "metadata": {},
     "output_type": "execute_result"
    }
   ],
   "source": [
    "# beers with single reviews mess up the recommendation process so I am checking to see how many of these I have\n",
    "single_count = 0\n",
    "for i in df['beer_name'].value_counts():\n",
    "    if i == 1:\n",
    "        single_count += 1\n",
    "single_count"
   ]
  },
  {
   "cell_type": "code",
   "execution_count": 13,
   "metadata": {},
   "outputs": [
    {
     "data": {
      "text/plain": [
       "90 Minute IPA                          3289\n",
       "India Pale Ale                         3126\n",
       "Old Rasputin Russian Imperial Stout    3098\n",
       "Sierra Nevada Celebration Ale          2987\n",
       "Two Hearted Ale                        2727\n",
       "Stone Ruination IPA                    2704\n",
       "Arrogant Bastard Ale                   2699\n",
       "Sierra Nevada Pale Ale                 2577\n",
       "Stone IPA (India Pale Ale)             2574\n",
       "Pliny The Elder                        2527\n",
       "Name: beer_name, dtype: int64"
      ]
     },
     "execution_count": 13,
     "metadata": {},
     "output_type": "execute_result"
    }
   ],
   "source": [
    "df['beer_name'].value_counts()[:10]"
   ]
  },
  {
   "cell_type": "code",
   "execution_count": 14,
   "metadata": {},
   "outputs": [],
   "source": [
    "# creating a list of beers to drop from my data set if they only have 1 review\n",
    "drop_list = []\n",
    "for (i, j) in zip(df['beer_name'].value_counts(), df['beer_name'].value_counts().index):\n",
    "    if i == 1:\n",
    "        drop_list.append(j)"
   ]
  },
  {
   "cell_type": "code",
   "execution_count": 15,
   "metadata": {},
   "outputs": [
    {
     "data": {
      "text/plain": [
       "['Gryphon',\n",
       " 'Brut De Sauvin',\n",
       " 'Stout-Porter',\n",
       " 'Green Tree',\n",
       " 'Freshy Yum Yum XPA',\n",
       " 'Nagila Pale Ale',\n",
       " \"Anne Marie's Amber\",\n",
       " 'Kronan The Bourbarian',\n",
       " 'Schloss Fels',\n",
       " \"Pun'kin Head\"]"
      ]
     },
     "execution_count": 15,
     "metadata": {},
     "output_type": "execute_result"
    }
   ],
   "source": [
    "drop_list[:10]"
   ]
  },
  {
   "cell_type": "code",
   "execution_count": 17,
   "metadata": {},
   "outputs": [],
   "source": [
    "# dropping the beers with only 1 review from my dataset\n",
    "for i in tqdm(drop_list):\n",
    "    df = df[df['beer_name'] != i]"
   ]
  },
  {
   "cell_type": "code",
   "execution_count": 18,
   "metadata": {},
   "outputs": [
    {
     "data": {
      "text/plain": [
       "1565426"
      ]
     },
     "execution_count": 18,
     "metadata": {},
     "output_type": "execute_result"
    }
   ],
   "source": [
    "# checking the number of rows after dropping the beers with 1 review\n",
    "df.shape[0]"
   ]
  },
  {
   "cell_type": "code",
   "execution_count": 19,
   "metadata": {},
   "outputs": [
    {
     "data": {
      "text/plain": [
       "0"
      ]
     },
     "execution_count": 19,
     "metadata": {},
     "output_type": "execute_result"
    }
   ],
   "source": [
    "# making sure I dropped everything correctly and there are no more beers with only 1 review\n",
    "single_count = 0\n",
    "for i in df['beer_name'].value_counts():\n",
    "    if i == 1:\n",
    "        single_count += 1\n",
    "single_count"
   ]
  },
  {
   "cell_type": "code",
   "execution_count": 44,
   "metadata": {},
   "outputs": [
    {
     "data": {
      "text/plain": [
       "brewery_id                0\n",
       "brewery_name              8\n",
       "review_time               0\n",
       "review_overall            0\n",
       "review_aroma              0\n",
       "review_appearance         0\n",
       "review_profilename        0\n",
       "beer_style                0\n",
       "review_palate             0\n",
       "review_taste              0\n",
       "beer_name                 0\n",
       "beer_abv              61633\n",
       "beer_beerid               0\n",
       "dtype: int64"
      ]
     },
     "execution_count": 44,
     "metadata": {},
     "output_type": "execute_result"
    }
   ],
   "source": [
    "# checking for nulls\n",
    "df.isnull().sum()"
   ]
  },
  {
   "cell_type": "code",
   "execution_count": 45,
   "metadata": {},
   "outputs": [
    {
     "data": {
      "text/plain": [
       "brewery_id                0\n",
       "brewery_name              0\n",
       "review_time               0\n",
       "review_overall            0\n",
       "review_aroma              0\n",
       "review_appearance         0\n",
       "review_profilename        0\n",
       "beer_style                0\n",
       "review_palate             0\n",
       "review_taste              0\n",
       "beer_name                 0\n",
       "beer_abv              61633\n",
       "beer_beerid               0\n",
       "dtype: int64"
      ]
     },
     "execution_count": 45,
     "metadata": {},
     "output_type": "execute_result"
    }
   ],
   "source": [
    "# because my dataset is so large I have no issue dropping the null values in the dataset for the review_profilename and brewery_name columns\n",
    "df.dropna(inplace=True, subset=['review_profilename', 'brewery_name'])\n",
    "df.isnull().sum()"
   ]
  },
  {
   "cell_type": "code",
   "execution_count": 28,
   "metadata": {},
   "outputs": [
    {
     "data": {
      "text/html": [
       "<div>\n",
       "<style scoped>\n",
       "    .dataframe tbody tr th:only-of-type {\n",
       "        vertical-align: middle;\n",
       "    }\n",
       "\n",
       "    .dataframe tbody tr th {\n",
       "        vertical-align: top;\n",
       "    }\n",
       "\n",
       "    .dataframe thead th {\n",
       "        text-align: right;\n",
       "    }\n",
       "</style>\n",
       "<table border=\"1\" class=\"dataframe\">\n",
       "  <thead>\n",
       "    <tr style=\"text-align: right;\">\n",
       "      <th></th>\n",
       "      <th>brewery_type</th>\n",
       "      <th>city</th>\n",
       "      <th>country</th>\n",
       "      <th>id</th>\n",
       "      <th>latitude</th>\n",
       "      <th>longitude</th>\n",
       "      <th>name</th>\n",
       "      <th>phone</th>\n",
       "      <th>postal_code</th>\n",
       "      <th>state</th>\n",
       "      <th>street</th>\n",
       "      <th>tag_list</th>\n",
       "      <th>updated_at</th>\n",
       "      <th>website_url</th>\n",
       "    </tr>\n",
       "  </thead>\n",
       "  <tbody>\n",
       "    <tr>\n",
       "      <th>0</th>\n",
       "      <td>micro</td>\n",
       "      <td>Birmingham</td>\n",
       "      <td>United States</td>\n",
       "      <td>2</td>\n",
       "      <td>33.524521</td>\n",
       "      <td>-86.774322</td>\n",
       "      <td>Avondale Brewing Co</td>\n",
       "      <td>2.057775e+09</td>\n",
       "      <td>35222-1932</td>\n",
       "      <td>Alabama</td>\n",
       "      <td>201 41st St S</td>\n",
       "      <td>[]</td>\n",
       "      <td>2018-08-23T23:19:57.825Z</td>\n",
       "      <td>http://www.avondalebrewing.com</td>\n",
       "    </tr>\n",
       "    <tr>\n",
       "      <th>1</th>\n",
       "      <td>micro</td>\n",
       "      <td>Birmingham</td>\n",
       "      <td>United States</td>\n",
       "      <td>44</td>\n",
       "      <td>33.512849</td>\n",
       "      <td>-86.791400</td>\n",
       "      <td>Trim Tab Brewing</td>\n",
       "      <td>2.057031e+09</td>\n",
       "      <td>35233-3401</td>\n",
       "      <td>Alabama</td>\n",
       "      <td>2721 5th Ave S</td>\n",
       "      <td>[]</td>\n",
       "      <td>2018-08-23T23:20:31.423Z</td>\n",
       "      <td>http://www.trimtabbrewing.com</td>\n",
       "    </tr>\n",
       "    <tr>\n",
       "      <th>2</th>\n",
       "      <td>micro</td>\n",
       "      <td>Huntsville</td>\n",
       "      <td>United States</td>\n",
       "      <td>46</td>\n",
       "      <td>34.727752</td>\n",
       "      <td>-86.593201</td>\n",
       "      <td>Yellowhammer Brewery</td>\n",
       "      <td>2.569756e+09</td>\n",
       "      <td>35805-3046</td>\n",
       "      <td>Alabama</td>\n",
       "      <td>2600 Clinton Ave W</td>\n",
       "      <td>[]</td>\n",
       "      <td>2018-08-23T23:20:33.102Z</td>\n",
       "      <td>http://www.yellowhammerbrewery.com</td>\n",
       "    </tr>\n",
       "    <tr>\n",
       "      <th>3</th>\n",
       "      <td>micro</td>\n",
       "      <td>Wasilla</td>\n",
       "      <td>United States</td>\n",
       "      <td>55</td>\n",
       "      <td>61.575269</td>\n",
       "      <td>-149.412710</td>\n",
       "      <td>Bearpaw River Brewing Co</td>\n",
       "      <td>NaN</td>\n",
       "      <td>99654-7679</td>\n",
       "      <td>Alaska</td>\n",
       "      <td>4605 E Palmer Wasilla Hwy</td>\n",
       "      <td>[]</td>\n",
       "      <td>2018-08-23T23:20:40.743Z</td>\n",
       "      <td>http://bearpawriverbrewing.com</td>\n",
       "    </tr>\n",
       "    <tr>\n",
       "      <th>4</th>\n",
       "      <td>micro</td>\n",
       "      <td>Anchorage</td>\n",
       "      <td>United States</td>\n",
       "      <td>76</td>\n",
       "      <td>61.138489</td>\n",
       "      <td>-149.879076</td>\n",
       "      <td>King Street Brewing Co</td>\n",
       "      <td>9.073365e+09</td>\n",
       "      <td>99515</td>\n",
       "      <td>Alaska</td>\n",
       "      <td>9050 King Street</td>\n",
       "      <td>[]</td>\n",
       "      <td>2018-08-23T23:20:57.179Z</td>\n",
       "      <td>http://www.kingstreetbrewing.com</td>\n",
       "    </tr>\n",
       "  </tbody>\n",
       "</table>\n",
       "</div>"
      ],
      "text/plain": [
       "  brewery_type        city        country  id   latitude   longitude  \\\n",
       "0        micro  Birmingham  United States   2  33.524521  -86.774322   \n",
       "1        micro  Birmingham  United States  44  33.512849  -86.791400   \n",
       "2        micro  Huntsville  United States  46  34.727752  -86.593201   \n",
       "3        micro     Wasilla  United States  55  61.575269 -149.412710   \n",
       "4        micro   Anchorage  United States  76  61.138489 -149.879076   \n",
       "\n",
       "                       name         phone postal_code    state  \\\n",
       "0       Avondale Brewing Co  2.057775e+09  35222-1932  Alabama   \n",
       "1          Trim Tab Brewing  2.057031e+09  35233-3401  Alabama   \n",
       "2      Yellowhammer Brewery  2.569756e+09  35805-3046  Alabama   \n",
       "3  Bearpaw River Brewing Co           NaN  99654-7679   Alaska   \n",
       "4    King Street Brewing Co  9.073365e+09       99515   Alaska   \n",
       "\n",
       "                      street tag_list                updated_at  \\\n",
       "0              201 41st St S       []  2018-08-23T23:19:57.825Z   \n",
       "1             2721 5th Ave S       []  2018-08-23T23:20:31.423Z   \n",
       "2         2600 Clinton Ave W       []  2018-08-23T23:20:33.102Z   \n",
       "3  4605 E Palmer Wasilla Hwy       []  2018-08-23T23:20:40.743Z   \n",
       "4           9050 King Street       []  2018-08-23T23:20:57.179Z   \n",
       "\n",
       "                          website_url  \n",
       "0      http://www.avondalebrewing.com  \n",
       "1       http://www.trimtabbrewing.com  \n",
       "2  http://www.yellowhammerbrewery.com  \n",
       "3      http://bearpawriverbrewing.com  \n",
       "4    http://www.kingstreetbrewing.com  "
      ]
     },
     "execution_count": 28,
     "metadata": {},
     "output_type": "execute_result"
    }
   ],
   "source": [
    "# loading in the us breweries dataset\n",
    "us_breweries = pd.read_csv('../data/breweries_50_states.csv')\n",
    "us_breweries.head()"
   ]
  },
  {
   "cell_type": "code",
   "execution_count": 66,
   "metadata": {},
   "outputs": [
    {
     "data": {
      "text/html": [
       "<div>\n",
       "<style scoped>\n",
       "    .dataframe tbody tr th:only-of-type {\n",
       "        vertical-align: middle;\n",
       "    }\n",
       "\n",
       "    .dataframe tbody tr th {\n",
       "        vertical-align: top;\n",
       "    }\n",
       "\n",
       "    .dataframe thead th {\n",
       "        text-align: right;\n",
       "    }\n",
       "</style>\n",
       "<table border=\"1\" class=\"dataframe\">\n",
       "  <thead>\n",
       "    <tr style=\"text-align: right;\">\n",
       "      <th></th>\n",
       "      <th>brewery_id</th>\n",
       "      <th>brewery_name</th>\n",
       "      <th>review_time</th>\n",
       "      <th>review_overall</th>\n",
       "      <th>review_aroma</th>\n",
       "      <th>review_appearance</th>\n",
       "      <th>review_profilename</th>\n",
       "      <th>beer_style</th>\n",
       "      <th>review_palate</th>\n",
       "      <th>review_taste</th>\n",
       "      <th>beer_name</th>\n",
       "      <th>beer_abv</th>\n",
       "      <th>beer_beerid</th>\n",
       "    </tr>\n",
       "  </thead>\n",
       "  <tbody>\n",
       "    <tr>\n",
       "      <th>977819</th>\n",
       "      <td>4785</td>\n",
       "      <td>Abashiri, K.K.</td>\n",
       "      <td>2005-06-25 08:24:12</td>\n",
       "      <td>3.0</td>\n",
       "      <td>2.5</td>\n",
       "      <td>2.5</td>\n",
       "      <td>UncleJimbo</td>\n",
       "      <td>Japanese Rice Lager</td>\n",
       "      <td>2.5</td>\n",
       "      <td>3.0</td>\n",
       "      <td>Hotate Draft</td>\n",
       "      <td>5.0</td>\n",
       "      <td>18870</td>\n",
       "    </tr>\n",
       "    <tr>\n",
       "      <th>977820</th>\n",
       "      <td>4785</td>\n",
       "      <td>Abashiri, K.K.</td>\n",
       "      <td>2004-07-22 16:28:07</td>\n",
       "      <td>2.5</td>\n",
       "      <td>3.0</td>\n",
       "      <td>3.5</td>\n",
       "      <td>donnebaby</td>\n",
       "      <td>Japanese Rice Lager</td>\n",
       "      <td>2.5</td>\n",
       "      <td>3.0</td>\n",
       "      <td>Hotate Draft</td>\n",
       "      <td>5.0</td>\n",
       "      <td>18870</td>\n",
       "    </tr>\n",
       "    <tr>\n",
       "      <th>977821</th>\n",
       "      <td>4785</td>\n",
       "      <td>Abashiri, K.K.</td>\n",
       "      <td>2005-06-25 07:46:07</td>\n",
       "      <td>3.0</td>\n",
       "      <td>3.0</td>\n",
       "      <td>3.5</td>\n",
       "      <td>UncleJimbo</td>\n",
       "      <td>Fruit / Vegetable Beer</td>\n",
       "      <td>2.5</td>\n",
       "      <td>2.5</td>\n",
       "      <td>Beta Bore</td>\n",
       "      <td>5.0</td>\n",
       "      <td>16251</td>\n",
       "    </tr>\n",
       "    <tr>\n",
       "      <th>977822</th>\n",
       "      <td>4785</td>\n",
       "      <td>Abashiri, K.K.</td>\n",
       "      <td>2004-03-02 12:14:44</td>\n",
       "      <td>2.5</td>\n",
       "      <td>4.5</td>\n",
       "      <td>4.5</td>\n",
       "      <td>donnebaby</td>\n",
       "      <td>Fruit / Vegetable Beer</td>\n",
       "      <td>2.5</td>\n",
       "      <td>2.5</td>\n",
       "      <td>Beta Bore</td>\n",
       "      <td>5.0</td>\n",
       "      <td>16251</td>\n",
       "    </tr>\n",
       "    <tr>\n",
       "      <th>977825</th>\n",
       "      <td>4785</td>\n",
       "      <td>Abashiri, K.K.</td>\n",
       "      <td>2004-02-05 09:44:17</td>\n",
       "      <td>4.5</td>\n",
       "      <td>3.5</td>\n",
       "      <td>3.5</td>\n",
       "      <td>donnebaby</td>\n",
       "      <td>Czech Pilsener</td>\n",
       "      <td>4.0</td>\n",
       "      <td>4.0</td>\n",
       "      <td>Pilsener</td>\n",
       "      <td>5.0</td>\n",
       "      <td>15752</td>\n",
       "    </tr>\n",
       "    <tr>\n",
       "      <th>977828</th>\n",
       "      <td>4785</td>\n",
       "      <td>Abashiri, K.K.</td>\n",
       "      <td>2004-02-17 08:48:23</td>\n",
       "      <td>4.5</td>\n",
       "      <td>3.5</td>\n",
       "      <td>3.5</td>\n",
       "      <td>donnebaby</td>\n",
       "      <td>Hefeweizen</td>\n",
       "      <td>4.0</td>\n",
       "      <td>4.0</td>\n",
       "      <td>Weizen</td>\n",
       "      <td>5.0</td>\n",
       "      <td>15972</td>\n",
       "    </tr>\n",
       "    <tr>\n",
       "      <th>977829</th>\n",
       "      <td>4785</td>\n",
       "      <td>Abashiri, K.K.</td>\n",
       "      <td>2004-02-26 09:14:17</td>\n",
       "      <td>3.5</td>\n",
       "      <td>4.0</td>\n",
       "      <td>3.5</td>\n",
       "      <td>donnebaby</td>\n",
       "      <td>English Stout</td>\n",
       "      <td>3.5</td>\n",
       "      <td>4.0</td>\n",
       "      <td>Stout</td>\n",
       "      <td>5.0</td>\n",
       "      <td>16137</td>\n",
       "    </tr>\n",
       "    <tr>\n",
       "      <th>977830</th>\n",
       "      <td>4785</td>\n",
       "      <td>Abashiri, K.K.</td>\n",
       "      <td>2004-02-20 08:34:24</td>\n",
       "      <td>4.5</td>\n",
       "      <td>4.0</td>\n",
       "      <td>3.5</td>\n",
       "      <td>donnebaby</td>\n",
       "      <td>Altbier</td>\n",
       "      <td>4.5</td>\n",
       "      <td>4.0</td>\n",
       "      <td>Alt</td>\n",
       "      <td>5.0</td>\n",
       "      <td>16041</td>\n",
       "    </tr>\n",
       "  </tbody>\n",
       "</table>\n",
       "</div>"
      ],
      "text/plain": [
       "        brewery_id    brewery_name         review_time  review_overall  \\\n",
       "977819        4785  Abashiri, K.K. 2005-06-25 08:24:12             3.0   \n",
       "977820        4785  Abashiri, K.K. 2004-07-22 16:28:07             2.5   \n",
       "977821        4785  Abashiri, K.K. 2005-06-25 07:46:07             3.0   \n",
       "977822        4785  Abashiri, K.K. 2004-03-02 12:14:44             2.5   \n",
       "977825        4785  Abashiri, K.K. 2004-02-05 09:44:17             4.5   \n",
       "977828        4785  Abashiri, K.K. 2004-02-17 08:48:23             4.5   \n",
       "977829        4785  Abashiri, K.K. 2004-02-26 09:14:17             3.5   \n",
       "977830        4785  Abashiri, K.K. 2004-02-20 08:34:24             4.5   \n",
       "\n",
       "        review_aroma  review_appearance review_profilename  \\\n",
       "977819           2.5                2.5         UncleJimbo   \n",
       "977820           3.0                3.5          donnebaby   \n",
       "977821           3.0                3.5         UncleJimbo   \n",
       "977822           4.5                4.5          donnebaby   \n",
       "977825           3.5                3.5          donnebaby   \n",
       "977828           3.5                3.5          donnebaby   \n",
       "977829           4.0                3.5          donnebaby   \n",
       "977830           4.0                3.5          donnebaby   \n",
       "\n",
       "                    beer_style  review_palate  review_taste     beer_name  \\\n",
       "977819     Japanese Rice Lager            2.5           3.0  Hotate Draft   \n",
       "977820     Japanese Rice Lager            2.5           3.0  Hotate Draft   \n",
       "977821  Fruit / Vegetable Beer            2.5           2.5     Beta Bore   \n",
       "977822  Fruit / Vegetable Beer            2.5           2.5     Beta Bore   \n",
       "977825          Czech Pilsener            4.0           4.0      Pilsener   \n",
       "977828              Hefeweizen            4.0           4.0        Weizen   \n",
       "977829           English Stout            3.5           4.0         Stout   \n",
       "977830                 Altbier            4.5           4.0           Alt   \n",
       "\n",
       "        beer_abv  beer_beerid  \n",
       "977819       5.0        18870  \n",
       "977820       5.0        18870  \n",
       "977821       5.0        16251  \n",
       "977822       5.0        16251  \n",
       "977825       5.0        15752  \n",
       "977828       5.0        15972  \n",
       "977829       5.0        16137  \n",
       "977830       5.0        16041  "
      ]
     },
     "execution_count": 66,
     "metadata": {},
     "output_type": "execute_result"
    }
   ],
   "source": [
    "df[df['brewery_name'].str.contains('Abashiri, K.K.')]"
   ]
  },
  {
   "cell_type": "code",
   "execution_count": 65,
   "metadata": {},
   "outputs": [
    {
     "data": {
      "text/html": [
       "<div>\n",
       "<style scoped>\n",
       "    .dataframe tbody tr th:only-of-type {\n",
       "        vertical-align: middle;\n",
       "    }\n",
       "\n",
       "    .dataframe tbody tr th {\n",
       "        vertical-align: top;\n",
       "    }\n",
       "\n",
       "    .dataframe thead th {\n",
       "        text-align: right;\n",
       "    }\n",
       "</style>\n",
       "<table border=\"1\" class=\"dataframe\">\n",
       "  <thead>\n",
       "    <tr style=\"text-align: right;\">\n",
       "      <th></th>\n",
       "      <th>brewery_id</th>\n",
       "      <th>brewery_name</th>\n",
       "      <th>review_time</th>\n",
       "      <th>review_overall</th>\n",
       "      <th>review_aroma</th>\n",
       "      <th>review_appearance</th>\n",
       "      <th>review_profilename</th>\n",
       "      <th>beer_style</th>\n",
       "      <th>review_palate</th>\n",
       "      <th>review_taste</th>\n",
       "      <th>beer_name</th>\n",
       "      <th>beer_abv</th>\n",
       "      <th>beer_beerid</th>\n",
       "    </tr>\n",
       "  </thead>\n",
       "  <tbody>\n",
       "    <tr>\n",
       "      <th>40027</th>\n",
       "      <td>1604</td>\n",
       "      <td>Roslyn Brewing</td>\n",
       "      <td>2008-08-12 22:41:01</td>\n",
       "      <td>4.0</td>\n",
       "      <td>3.0</td>\n",
       "      <td>3.0</td>\n",
       "      <td>ccrida</td>\n",
       "      <td>American Amber / Red Lager</td>\n",
       "      <td>4.0</td>\n",
       "      <td>4.0</td>\n",
       "      <td>Saddle Rock Red Lager</td>\n",
       "      <td>NaN</td>\n",
       "      <td>36809</td>\n",
       "    </tr>\n",
       "    <tr>\n",
       "      <th>40028</th>\n",
       "      <td>1604</td>\n",
       "      <td>Roslyn Brewing</td>\n",
       "      <td>2007-05-13 16:57:56</td>\n",
       "      <td>4.0</td>\n",
       "      <td>3.5</td>\n",
       "      <td>3.0</td>\n",
       "      <td>RJLarse</td>\n",
       "      <td>American Amber / Red Lager</td>\n",
       "      <td>3.5</td>\n",
       "      <td>3.5</td>\n",
       "      <td>Saddle Rock Red Lager</td>\n",
       "      <td>NaN</td>\n",
       "      <td>36809</td>\n",
       "    </tr>\n",
       "  </tbody>\n",
       "</table>\n",
       "</div>"
      ],
      "text/plain": [
       "       brewery_id    brewery_name         review_time  review_overall  \\\n",
       "40027        1604  Roslyn Brewing 2008-08-12 22:41:01             4.0   \n",
       "40028        1604  Roslyn Brewing 2007-05-13 16:57:56             4.0   \n",
       "\n",
       "       review_aroma  review_appearance review_profilename  \\\n",
       "40027           3.0                3.0             ccrida   \n",
       "40028           3.5                3.0            RJLarse   \n",
       "\n",
       "                       beer_style  review_palate  review_taste  \\\n",
       "40027  American Amber / Red Lager            4.0           4.0   \n",
       "40028  American Amber / Red Lager            3.5           3.5   \n",
       "\n",
       "                   beer_name  beer_abv  beer_beerid  \n",
       "40027  Saddle Rock Red Lager       NaN        36809  \n",
       "40028  Saddle Rock Red Lager       NaN        36809  "
      ]
     },
     "execution_count": 65,
     "metadata": {},
     "output_type": "execute_result"
    }
   ],
   "source": [
    "df[df['beer_name'].str.contains('Saddle Rock')]"
   ]
  },
  {
   "cell_type": "code",
   "execution_count": null,
   "metadata": {},
   "outputs": [],
   "source": [
    "for i in tqdm(us_breweries['name']):"
   ]
  },
  {
   "cell_type": "code",
   "execution_count": 20,
   "metadata": {},
   "outputs": [
    {
     "data": {
      "text/html": [
       "<div>\n",
       "<style scoped>\n",
       "    .dataframe tbody tr th:only-of-type {\n",
       "        vertical-align: middle;\n",
       "    }\n",
       "\n",
       "    .dataframe tbody tr th {\n",
       "        vertical-align: top;\n",
       "    }\n",
       "\n",
       "    .dataframe thead th {\n",
       "        text-align: right;\n",
       "    }\n",
       "</style>\n",
       "<table border=\"1\" class=\"dataframe\">\n",
       "  <thead>\n",
       "    <tr style=\"text-align: right;\">\n",
       "      <th></th>\n",
       "      <th>review_overall</th>\n",
       "      <th>review_profilename</th>\n",
       "      <th>beer_name</th>\n",
       "    </tr>\n",
       "  </thead>\n",
       "  <tbody>\n",
       "    <tr>\n",
       "      <th>5</th>\n",
       "      <td>3.0</td>\n",
       "      <td>oline73</td>\n",
       "      <td>Caldera Ginger Beer</td>\n",
       "    </tr>\n",
       "    <tr>\n",
       "      <th>6</th>\n",
       "      <td>3.5</td>\n",
       "      <td>Reidrover</td>\n",
       "      <td>Caldera Ginger Beer</td>\n",
       "    </tr>\n",
       "    <tr>\n",
       "      <th>7</th>\n",
       "      <td>3.0</td>\n",
       "      <td>alpinebryant</td>\n",
       "      <td>Caldera Ginger Beer</td>\n",
       "    </tr>\n",
       "    <tr>\n",
       "      <th>8</th>\n",
       "      <td>4.0</td>\n",
       "      <td>LordAdmNelson</td>\n",
       "      <td>Caldera Ginger Beer</td>\n",
       "    </tr>\n",
       "    <tr>\n",
       "      <th>9</th>\n",
       "      <td>4.5</td>\n",
       "      <td>augustgarage</td>\n",
       "      <td>Caldera Ginger Beer</td>\n",
       "    </tr>\n",
       "  </tbody>\n",
       "</table>\n",
       "</div>"
      ],
      "text/plain": [
       "   review_overall review_profilename            beer_name\n",
       "5             3.0            oline73  Caldera Ginger Beer\n",
       "6             3.5          Reidrover  Caldera Ginger Beer\n",
       "7             3.0       alpinebryant  Caldera Ginger Beer\n",
       "8             4.0      LordAdmNelson  Caldera Ginger Beer\n",
       "9             4.5       augustgarage  Caldera Ginger Beer"
      ]
     },
     "execution_count": 20,
     "metadata": {},
     "output_type": "execute_result"
    }
   ],
   "source": [
    "# dropping unecessary columns for the recommender model\n",
    "df_col_drop = df.drop(columns=['brewery_id', 'review_time', 'review_aroma', 'review_appearance', 'brewery_name', \n",
    "                               'beer_style', 'review_palate', 'review_taste', 'beer_abv', 'beer_beerid'])\n",
    "df_col_drop.head()"
   ]
  },
  {
   "cell_type": "code",
   "execution_count": 21,
   "metadata": {},
   "outputs": [],
   "source": [
    "# saving everything to csvs\n",
    "df.to_csv('../data/beer_reviews_no_ones.csv', index=False)\n",
    "df_col_drop.to_csv('../data/beer_reviews_col_drop.csv', index=False)"
   ]
  }
 ],
 "metadata": {
  "kernelspec": {
   "display_name": "Python 3",
   "language": "python",
   "name": "python3"
  },
  "language_info": {
   "codemirror_mode": {
    "name": "ipython",
    "version": 3
   },
   "file_extension": ".py",
   "mimetype": "text/x-python",
   "name": "python",
   "nbconvert_exporter": "python",
   "pygments_lexer": "ipython3",
   "version": "3.7.3"
  }
 },
 "nbformat": 4,
 "nbformat_minor": 2
}
